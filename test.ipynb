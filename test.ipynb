{
 "cells": [
  {
   "cell_type": "code",
   "execution_count": 27,
   "metadata": {},
   "outputs": [],
   "source": [
    "import torch\n",
    "import numpy as np\n",
    "from dataclasses import dataclass\n",
    "from pandas.core.frame import DataFrame\n",
    "from torch.utils.data import Dataset\n",
    "from torchvision.transforms import transforms\n",
    "from pathlib import Path\n",
    "import torch\n",
    "from PIL import Image\n",
    "import pandas as pd\n",
    "from oct_Utils import *"
   ]
  },
  {
   "cell_type": "code",
   "execution_count": 2,
   "metadata": {},
   "outputs": [],
   "source": [
    "from PIL import Image\n",
    "def cut_and_save_image(origin_image_path,object_image_path,count=54):\n",
    "    image=Image.open(origin_image_path)\n",
    "    width, height = image.size\n",
    "    item_width = int(width / count) \n",
    "    item_height = height\n",
    "    box_list = []\n",
    "    # (left, upper, right, lower)\n",
    "    for i in range(1,count-1):\n",
    "            box = ((i-1)*item_width,0,(i+2)*item_width,item_height)#parameter si left top right bottom \n",
    "            box_list.append(box)\n",
    "    image_list = [image.crop(box) for box in box_list]\n",
    "    index = 2\n",
    "    for image in image_list:\n",
    "        image.save(str(object_image_path)+'_'+str(index) + '.jpg')\n",
    "        index += 1\n",
    "    return image_list"
   ]
  },
  {
   "cell_type": "code",
   "execution_count": 50,
   "metadata": {},
   "outputs": [],
   "source": [
    "#python install pillow\n",
    "from os import path\n",
    "from PIL import Image\n",
    "from pathlib import *\n",
    "import pandas as pd\n",
    " \n",
    "#分割图片\n",
    "def cut_and_save_image(origin_image_path,object_image_path,count=54):\n",
    "    image=Image.open(origin_image_path)\n",
    "    width, height = image.size\n",
    "    item_width = int(width / count) \n",
    "    item_height = height\n",
    "    box_list = []\n",
    "    # (left, upper, right, lower)\n",
    "    for i in range(0,count):\n",
    "            box = (i*item_width,0,(i+1)*item_width,item_height)\n",
    "            box_list.append(box)\n",
    "    image_list = [image.crop(box) for box in box_list]\n",
    "    index = 1\n",
    "    for image in image_list:\n",
    "        image.save(str(object_image_path)+'_'+str(index) + '.jpg')\n",
    "        index += 1\n",
    "    return image_list\n",
    "\n",
    " \n",
    "\n",
    "# if __name__ == '__main__':\n",
    "#     data=pd.read_csv('data.csv')\n",
    "#     original_image_path=pathlib.Path('/home/octusr3/project/data_fast/380')\n",
    "#     image_paths=data['image_path']\n",
    "#     object_image_path=pathlib.Path('/home/octusr3/project/data_fast/54')\n",
    "#     for image_path in image_paths:\n",
    "#         cut_and_save_image(original_image_path/image_path,object_image_path/image_path.stem.stem)\n"
   ]
  },
  {
   "cell_type": "code",
   "execution_count": 3,
   "metadata": {},
   "outputs": [
    {
     "ename": "NameError",
     "evalue": "name 'pathlib' is not defined",
     "output_type": "error",
     "traceback": [
      "\u001b[0;31m---------------------------------------------------------------------------\u001b[0m",
      "\u001b[0;31mNameError\u001b[0m                                 Traceback (most recent call last)",
      "\u001b[0;32m<ipython-input-3-a02a8f527ed2>\u001b[0m in \u001b[0;36m<module>\u001b[0;34m()\u001b[0m\n\u001b[1;32m      1\u001b[0m \u001b[0mdata\u001b[0m\u001b[0;34m=\u001b[0m\u001b[0mpd\u001b[0m\u001b[0;34m.\u001b[0m\u001b[0mread_csv\u001b[0m\u001b[0;34m(\u001b[0m\u001b[0;34m'data.csv'\u001b[0m\u001b[0;34m)\u001b[0m\u001b[0;34m\u001b[0m\u001b[0;34m\u001b[0m\u001b[0m\n\u001b[0;32m----> 2\u001b[0;31m \u001b[0moriginal_image_path\u001b[0m\u001b[0;34m=\u001b[0m\u001b[0mpathlib\u001b[0m\u001b[0;34m.\u001b[0m\u001b[0mPath\u001b[0m\u001b[0;34m(\u001b[0m\u001b[0;34m'/home/octusr3/project/data_fast/380'\u001b[0m\u001b[0;34m)\u001b[0m\u001b[0;34m\u001b[0m\u001b[0;34m\u001b[0m\u001b[0m\n\u001b[0m\u001b[1;32m      3\u001b[0m \u001b[0mimage_paths\u001b[0m\u001b[0;34m=\u001b[0m\u001b[0mdata\u001b[0m\u001b[0;34m[\u001b[0m\u001b[0;34m'image_path'\u001b[0m\u001b[0;34m]\u001b[0m\u001b[0;34m\u001b[0m\u001b[0;34m\u001b[0m\u001b[0m\n\u001b[1;32m      4\u001b[0m \u001b[0mobject_image_path\u001b[0m\u001b[0;34m=\u001b[0m\u001b[0mpathlib\u001b[0m\u001b[0;34m.\u001b[0m\u001b[0mPath\u001b[0m\u001b[0;34m(\u001b[0m\u001b[0;34m'/home/octusr3/project/data_fast/54'\u001b[0m\u001b[0;34m)\u001b[0m\u001b[0;34m\u001b[0m\u001b[0;34m\u001b[0m\u001b[0m\n\u001b[1;32m      5\u001b[0m \u001b[0;34m\u001b[0m\u001b[0m\n",
      "\u001b[0;31mNameError\u001b[0m: name 'pathlib' is not defined"
     ]
    }
   ],
   "source": [
    "data=pd.read_csv('data.csv')\n",
    "original_image_path=pathlib.Path('/home/octusr3/project/data_fast/380')\n",
    "image_paths=data['image_path']\n",
    "object_image_path=pathlib.Path('/home/octusr3/project/data_fast/54')\n",
    "\n",
    "for image_path in image_paths:\n",
    "    Path(object_image_path/image_path).parent.mkdir(parents=True,exist_ok=True)\n",
    "    cut_and_save_image(str(original_image_path/image_path),Path(object_image_path/image_path).with_name(Path(image_path).stem))"
   ]
  },
  {
   "cell_type": "code",
   "execution_count": 17,
   "metadata": {},
   "outputs": [
    {
     "data": {
      "text/plain": [
       "'/home/octusr3/project/data_fast/380/20210730-中山眼科-OCT转VF/CASIA数据汇总-new/CRC-009-143/OS/OCT-后/3D Disc/69627.fds.jpg'"
      ]
     },
     "execution_count": 17,
     "metadata": {},
     "output_type": "execute_result"
    }
   ],
   "source": [
    "str(original_image_path/image_path)"
   ]
  },
  {
   "cell_type": "code",
   "execution_count": 41,
   "metadata": {},
   "outputs": [
    {
     "data": {
      "text/plain": [
       "PosixPath('/home/octusr3/project/data_fast/54/20210730-中山眼科-OCT转VF/CASIA数据汇总-new/CRC-009-143/OS/OCT-后/3D Disc/69627.fds')"
      ]
     },
     "execution_count": 41,
     "metadata": {},
     "output_type": "execute_result"
    }
   ],
   "source": [
    "Path(object_image_path/image_path).with_name(Path(image_path).stem)"
   ]
  },
  {
   "cell_type": "code",
   "execution_count": 53,
   "metadata": {},
   "outputs": [
    {
     "data": {
      "text/plain": [
       "PosixPath('/home/octusr3/project/data_fast/54/20210730-中山眼科-OCT转VF/CASIA数据汇总-new/CRC-009-143/OS/OCT-后/3D Disc')"
      ]
     },
     "execution_count": 53,
     "metadata": {},
     "output_type": "execute_result"
    }
   ],
   "source": [
    "Path(object_image_path/image_path).parent"
   ]
  },
  {
   "cell_type": "code",
   "execution_count": 2,
   "metadata": {},
   "outputs": [
    {
     "name": "stdout",
     "output_type": "stream",
     "text": [
      "<class 'str'> \t {\"id\": 1, \"name\": \"test1\", \"age\": \"1\"}\n"
     ]
    }
   ],
   "source": []
  },
  {
   "cell_type": "code",
   "execution_count": 3,
   "metadata": {},
   "outputs": [
    {
     "name": "stdout",
     "output_type": "stream",
     "text": [
      "<class 'str'> \t '{\"id\": 1, \"name\": \"test1\", \"age\": \"1\"}'\n"
     ]
    }
   ],
   "source": [
    "import json\n",
    "\n",
    "data = {\n",
    "    'id': 1,\n",
    "    'name': 'test1',\n",
    "    'age': '1'\n",
    "}\n",
    "\n",
    "json_str1 = json.dumps(data)\n",
    "print(type(json_str1), '\\t', repr(json_str1))\n"
   ]
  },
  {
   "cell_type": "code",
   "execution_count": null,
   "metadata": {},
   "outputs": [],
   "source": []
  },
  {
   "cell_type": "code",
   "execution_count": 19,
   "metadata": {},
   "outputs": [],
   "source": [
    "from pathlib import *\n",
    "import os\n",
    "filepath='bupt/fds.py'\n",
    "res=Path(os.path.dirname(filepath)).mkdir(parents=False, exist_ok=True)"
   ]
  },
  {
   "cell_type": "code",
   "execution_count": 12,
   "metadata": {},
   "outputs": [],
   "source": [
    "\n",
    "Path(\"/home/octusr3/project/oct/origin/directory\").mkdir(parents=False, exist_ok=True)"
   ]
  },
  {
   "cell_type": "code",
   "execution_count": 6,
   "metadata": {},
   "outputs": [
    {
     "data": {
      "text/plain": [
       "'home/octusr3/project/oct/origin'"
      ]
     },
     "execution_count": 6,
     "metadata": {},
     "output_type": "execute_result"
    }
   ],
   "source": [
    "data=os.path.dirname(filepath)\n",
    "data"
   ]
  },
  {
   "cell_type": "code",
   "execution_count": 5,
   "metadata": {},
   "outputs": [],
   "source": [
    "import torch as t\n",
    "from torch.autograd import Variable as v\n"
   ]
  },
  {
   "cell_type": "code",
   "execution_count": 14,
   "metadata": {},
   "outputs": [
    {
     "name": "stdout",
     "output_type": "stream",
     "text": [
      "**********\n",
      "=====simple gradient======\n",
      "input\n",
      "tensor([2., 3.], requires_grad=True)\n",
      "compute result is\n",
      "tensor(91.5000)\n",
      "input gradients are\n",
      "tensor([15., 18.])\n"
     ]
    }
   ],
   "source": [
    "a = v(t.FloatTensor([2, 3]), requires_grad=True)\n",
    "b = a + 3\n",
    "c = b * b * 3\n",
    "out = c.mean()\n",
    "out.backward()\n",
    "print('*'*10)\n",
    "print('=====simple gradient======')\n",
    "print('input')\n",
    "print(a)\n",
    "print('compute result is')\n",
    "print(out.data)\n",
    "print('input gradients are')\n",
    "print(a.grad)"
   ]
  },
  {
   "cell_type": "code",
   "execution_count": 7,
   "metadata": {},
   "outputs": [
    {
     "data": {
      "text/plain": [
       "tensor([2., 3.], requires_grad=True)"
      ]
     },
     "execution_count": 7,
     "metadata": {},
     "output_type": "execute_result"
    }
   ],
   "source": [
    "a"
   ]
  },
  {
   "cell_type": "code",
   "execution_count": 17,
   "metadata": {},
   "outputs": [
    {
     "data": {
      "text/plain": [
       "(-1.09986915899354, 1.0999937694758828, -1.099965731583572, 1.099965731583572)"
      ]
     },
     "execution_count": 17,
     "metadata": {},
     "output_type": "execute_result"
    },
    {
     "data": {
      "image/png": "[encoded data removed]",
      "text/plain": [
       "<Figure size 288x288 with 1 Axes>"
      ]
     },
     "metadata": {},
     "output_type": "display_data"
    }
   ],
   "source": [
    "import numpy as np\n",
    "import matplotlib.pyplot as plt\n",
    "\n",
    "theta = np.linspace(0, 2 * np.pi, 200)\n",
    "x = np.cos(theta)\n",
    "y = np.sin(theta)\n",
    "fig, ax = plt.subplots(figsize=(4, 4))\n",
    "ax.plot(x, y, color=\"darkred\", linewidth=2)\n",
    "ax.xaxis.set_major_locator(plt.NullLocator()) # 删除x轴刻度，如需显示x轴刻度注释该行代码即可。\n",
    "ax.yaxis.set_major_locator(plt.NullLocator()) # 删除y轴刻度，如需显示y轴刻度注释该行代码即可。\n",
    "ax.axis(\"equal\")\n"
   ]
  },
  {
   "cell_type": "code",
   "execution_count": 18,
   "metadata": {},
   "outputs": [
    {
     "data": {
      "text/plain": [
       "True"
      ]
     },
     "execution_count": 18,
     "metadata": {},
     "output_type": "execute_result"
    }
   ],
   "source": [
    "True==1"
   ]
  },
  {
   "cell_type": "code",
   "execution_count": 24,
   "metadata": {},
   "outputs": [
    {
     "data": {
      "text/plain": [
       "['27',\n",
       " '26',\n",
       " '25',\n",
       " '24',\n",
       " '23',\n",
       " '22',\n",
       " '21',\n",
       " '20',\n",
       " '19',\n",
       " '18',\n",
       " '17',\n",
       " '16',\n",
       " '15',\n",
       " '14',\n",
       " '13',\n",
       " '12',\n",
       " '11',\n",
       " '10',\n",
       " '9',\n",
       " '8',\n",
       " '7',\n",
       " '6',\n",
       " '5',\n",
       " '4',\n",
       " '3',\n",
       " '2',\n",
       " '1',\n",
       " '0']"
      ]
     },
     "execution_count": 24,
     "metadata": {},
     "output_type": "execute_result"
    }
   ],
   "source": [
    "names=[f'{i}' for i in range(27,-1,-1)]#+[f'{i}'for i in range(54,27)]\n",
    "names"
   ]
  },
  {
   "cell_type": "code",
   "execution_count": 26,
   "metadata": {},
   "outputs": [
    {
     "data": {
      "image/png": "[encoded data removed]",
      "text/plain": [
       "<Figure size 1440x1440 with 1 Axes>"
      ]
     },
     "metadata": {},
     "output_type": "display_data"
    }
   ],
   "source": [
    "import matplotlib.pyplot as plt\n",
    " \n",
    "# create data\n",
    "# 创建数据\n",
    "names=[f'{i}'for i in range(27,0,-1)]+[f'{i}'for i in range(54,27,-1)]\n",
    "size=[1 for i in range(0,54)]\n",
    "#plt.set\n",
    "# Give color names\n",
    "plt.figure(figsize=(20, 20))\n",
    "# 画饼图，label设置标签名，colors代表颜色\n",
    "plt.pie(size, labels=names)#,wedgeprops=dict(width=0.2, edgecolor='w'))\n",
    "#plt.figure(figsize=(6, 6.5))\n",
    "# 设置等比例轴，x和y轴等比例\n",
    "plt.axis('equal') \n",
    "plt.savefig('result.jpg')\n",
    "plt.show()\n"
   ]
  },
  {
   "cell_type": "code",
   "execution_count": null,
   "metadata": {},
   "outputs": [],
   "source": []
  },
  {
   "cell_type": "code",
   "execution_count": 36,
   "metadata": {},
   "outputs": [
    {
     "name": "stderr",
     "output_type": "stream",
     "text": [
      "Downloading: \"https://download.pytorch.org/models/resnet18-5c106cde.pth\" to /home/octusr3/.cache/torch/hub/checkpoints/resnet18-5c106cde.pth\n"
     ]
    },
    {
     "data": {
      "application/vnd.jupyter.widget-view+json": {
       "model_id": "741df375fad2437ab7c5acd491b4947c",
       "version_major": 2,
       "version_minor": 0
      },
      "text/plain": [
       "  0%|          | 0.00/44.7M [00:00<?, ?B/s]"
      ]
     },
     "metadata": {},
     "output_type": "display_data"
    },
    {
     "name": "stdout",
     "output_type": "stream",
     "text": [
      "ResNet(\n",
      "  (conv1): Conv2d(3, 64, kernel_size=(7, 7), stride=(2, 2), padding=(3, 3), bias=False)\n",
      "  (bn1): BatchNorm2d(64, eps=1e-05, momentum=0.1, affine=True, track_running_stats=True)\n",
      "  (relu): ReLU(inplace=True)\n",
      "  (maxpool): MaxPool2d(kernel_size=3, stride=2, padding=1, dilation=1, ceil_mode=False)\n",
      "  (layer1): Sequential(\n",
      "    (0): BasicBlock(\n",
      "      (conv1): Conv2d(64, 64, kernel_size=(3, 3), stride=(1, 1), padding=(1, 1), bias=False)\n",
      "      (bn1): BatchNorm2d(64, eps=1e-05, momentum=0.1, affine=True, track_running_stats=True)\n",
      "      (relu): ReLU(inplace=True)\n",
      "      (conv2): Conv2d(64, 64, kernel_size=(3, 3), stride=(1, 1), padding=(1, 1), bias=False)\n",
      "      (bn2): BatchNorm2d(64, eps=1e-05, momentum=0.1, affine=True, track_running_stats=True)\n",
      "    )\n",
      "    (1): BasicBlock(\n",
      "      (conv1): Conv2d(64, 64, kernel_size=(3, 3), stride=(1, 1), padding=(1, 1), bias=False)\n",
      "      (bn1): BatchNorm2d(64, eps=1e-05, momentum=0.1, affine=True, track_running_stats=True)\n",
      "      (relu): ReLU(inplace=True)\n",
      "      (conv2): Conv2d(64, 64, kernel_size=(3, 3), stride=(1, 1), padding=(1, 1), bias=False)\n",
      "      (bn2): BatchNorm2d(64, eps=1e-05, momentum=0.1, affine=True, track_running_stats=True)\n",
      "    )\n",
      "  )\n",
      "  (layer2): Sequential(\n",
      "    (0): BasicBlock(\n",
      "      (conv1): Conv2d(64, 128, kernel_size=(3, 3), stride=(2, 2), padding=(1, 1), bias=False)\n",
      "      (bn1): BatchNorm2d(128, eps=1e-05, momentum=0.1, affine=True, track_running_stats=True)\n",
      "      (relu): ReLU(inplace=True)\n",
      "      (conv2): Conv2d(128, 128, kernel_size=(3, 3), stride=(1, 1), padding=(1, 1), bias=False)\n",
      "      (bn2): BatchNorm2d(128, eps=1e-05, momentum=0.1, affine=True, track_running_stats=True)\n",
      "      (downsample): Sequential(\n",
      "        (0): Conv2d(64, 128, kernel_size=(1, 1), stride=(2, 2), bias=False)\n",
      "        (1): BatchNorm2d(128, eps=1e-05, momentum=0.1, affine=True, track_running_stats=True)\n",
      "      )\n",
      "    )\n",
      "    (1): BasicBlock(\n",
      "      (conv1): Conv2d(128, 128, kernel_size=(3, 3), stride=(1, 1), padding=(1, 1), bias=False)\n",
      "      (bn1): BatchNorm2d(128, eps=1e-05, momentum=0.1, affine=True, track_running_stats=True)\n",
      "      (relu): ReLU(inplace=True)\n",
      "      (conv2): Conv2d(128, 128, kernel_size=(3, 3), stride=(1, 1), padding=(1, 1), bias=False)\n",
      "      (bn2): BatchNorm2d(128, eps=1e-05, momentum=0.1, affine=True, track_running_stats=True)\n",
      "    )\n",
      "  )\n",
      "  (layer3): Sequential(\n",
      "    (0): BasicBlock(\n",
      "      (conv1): Conv2d(128, 256, kernel_size=(3, 3), stride=(2, 2), padding=(1, 1), bias=False)\n",
      "      (bn1): BatchNorm2d(256, eps=1e-05, momentum=0.1, affine=True, track_running_stats=True)\n",
      "      (relu): ReLU(inplace=True)\n",
      "      (conv2): Conv2d(256, 256, kernel_size=(3, 3), stride=(1, 1), padding=(1, 1), bias=False)\n",
      "      (bn2): BatchNorm2d(256, eps=1e-05, momentum=0.1, affine=True, track_running_stats=True)\n",
      "      (downsample): Sequential(\n",
      "        (0): Conv2d(128, 256, kernel_size=(1, 1), stride=(2, 2), bias=False)\n",
      "        (1): BatchNorm2d(256, eps=1e-05, momentum=0.1, affine=True, track_running_stats=True)\n",
      "      )\n",
      "    )\n",
      "    (1): BasicBlock(\n",
      "      (conv1): Conv2d(256, 256, kernel_size=(3, 3), stride=(1, 1), padding=(1, 1), bias=False)\n",
      "      (bn1): BatchNorm2d(256, eps=1e-05, momentum=0.1, affine=True, track_running_stats=True)\n",
      "      (relu): ReLU(inplace=True)\n",
      "      (conv2): Conv2d(256, 256, kernel_size=(3, 3), stride=(1, 1), padding=(1, 1), bias=False)\n",
      "      (bn2): BatchNorm2d(256, eps=1e-05, momentum=0.1, affine=True, track_running_stats=True)\n",
      "    )\n",
      "  )\n",
      "  (layer4): Sequential(\n",
      "    (0): BasicBlock(\n",
      "      (conv1): Conv2d(256, 512, kernel_size=(3, 3), stride=(2, 2), padding=(1, 1), bias=False)\n",
      "      (bn1): BatchNorm2d(512, eps=1e-05, momentum=0.1, affine=True, track_running_stats=True)\n",
      "      (relu): ReLU(inplace=True)\n",
      "      (conv2): Conv2d(512, 512, kernel_size=(3, 3), stride=(1, 1), padding=(1, 1), bias=False)\n",
      "      (bn2): BatchNorm2d(512, eps=1e-05, momentum=0.1, affine=True, track_running_stats=True)\n",
      "      (downsample): Sequential(\n",
      "        (0): Conv2d(256, 512, kernel_size=(1, 1), stride=(2, 2), bias=False)\n",
      "        (1): BatchNorm2d(512, eps=1e-05, momentum=0.1, affine=True, track_running_stats=True)\n",
      "      )\n",
      "    )\n",
      "    (1): BasicBlock(\n",
      "      (conv1): Conv2d(512, 512, kernel_size=(3, 3), stride=(1, 1), padding=(1, 1), bias=False)\n",
      "      (bn1): BatchNorm2d(512, eps=1e-05, momentum=0.1, affine=True, track_running_stats=True)\n",
      "      (relu): ReLU(inplace=True)\n",
      "      (conv2): Conv2d(512, 512, kernel_size=(3, 3), stride=(1, 1), padding=(1, 1), bias=False)\n",
      "      (bn2): BatchNorm2d(512, eps=1e-05, momentum=0.1, affine=True, track_running_stats=True)\n",
      "    )\n",
      "  )\n",
      "  (avgpool): AdaptiveAvgPool2d(output_size=(1, 1))\n",
      "  (fc): Linear(in_features=512, out_features=1000, bias=True)\n",
      ")\n"
     ]
    }
   ],
   "source": [
    "from torchvision.models.resnet import resnet18,resnet50,resnet34, Bottleneck\n",
    "net = resnet18(pretrained=True)\n",
    "print(net)"
   ]
  },
  {
   "cell_type": "code",
   "execution_count": 37,
   "metadata": {},
   "outputs": [],
   "source": [
    "from PIL import Image\n",
    "\n",
    "import torch\n",
    "import torch.nn.functional as F\n",
    "from torch.utils.data import DataLoader\n",
    "import tqdm\n",
    "import numpy as np\n",
    "import argparse\n",
    "import os.path as osp\n",
    "import os\n",
    "import shutil\n",
    "import glob\n",
    "from PIL import Image\n",
    "import torchvision.transforms as transforms\n",
    "from torchvision.models.resnet import resnet18,resnet50,resnet34, Bottleneck\n",
    "\n",
    "net = resnet50()\n",
    "#print(net)\n",
    "\n",
    "net.eval()\n",
    "img = Image.open(\"test.jpg\").convert('RGB')\n",
    "img = img.resize((256, 256), Image.BILINEAR)\n",
    "img = np.array(img)\n",
    " \n",
    "to_tensor = transforms.Compose([\n",
    "                transforms.ToTensor(),\n",
    "                transforms.Normalize((0.485, 0.456, 0.406), (0.229, 0.224, 0.225))])\n",
    "img = to_tensor(img)\n",
    "img = torch.unsqueeze(img, 0) #给最高位添加一个维度，也就是batchsize的大小\n",
    " \n",
    "img1 = img\n",
    "outputs = net(img1)\n",
    "\n"
   ]
  },
  {
   "cell_type": "code",
   "execution_count": 40,
   "metadata": {},
   "outputs": [
    {
     "data": {
      "text/plain": [
       "torch.Size([1, 1000])"
      ]
     },
     "execution_count": 40,
     "metadata": {},
     "output_type": "execute_result"
    }
   ],
   "source": [
    "outputs.shape"
   ]
  },
  {
   "cell_type": "code",
   "execution_count": 73,
   "metadata": {},
   "outputs": [
    {
     "data": {
      "text/plain": [
       "torch.return_types.max"
      ]
     },
     "execution_count": 73,
     "metadata": {},
     "output_type": "execute_result"
    }
   ],
   "source": [
    "type(torch.max(outputs, dim=1))"
   ]
  },
  {
   "cell_type": "code",
   "execution_count": 59,
   "metadata": {},
   "outputs": [
    {
     "name": "stdout",
     "output_type": "stream",
     "text": [
      "44\n"
     ]
    }
   ],
   "source": [
    "print(int(outputs[0][1].data))"
   ]
  },
  {
   "cell_type": "code",
   "execution_count": 58,
   "metadata": {},
   "outputs": [
    {
     "data": {
      "text/plain": [
       "torch.Size([1, 1000])"
      ]
     },
     "execution_count": 58,
     "metadata": {},
     "output_type": "execute_result"
    }
   ],
   "source": [
    "outputs.shape"
   ]
  },
  {
   "cell_type": "code",
   "execution_count": 4,
   "metadata": {},
   "outputs": [],
   "source": [
    "map_matrix='''[ [0  0  0  0  0  0  0  0  0  0]\n",
    "                [0  0  0  46 44 43 42 0  0  0]\n",
    "                [0  0  46 45 44 43 41 43 0  0]\n",
    "                [0  45 46 45 45 45 42 42 41 0]\n",
    "                [46 46 47 46 50 50 50 0  41 0]\n",
    "                [9  9  9  6  8  6  7  0  16 0]\n",
    "                [0  10 8  7  6  8  9  13 17 0]\n",
    "                [0  0  8  8  10 10 12 15 0  0]\n",
    "                [0  0  0  9  10 11 14 0  0  0]\n",
    "                [0  0  0  0  0  0  0  0  0  0]]'''\n"
   ]
  },
  {
   "cell_type": "code",
   "execution_count": 5,
   "metadata": {},
   "outputs": [],
   "source": [
    "bupt=str_to_np_mat(map_matrix)\n"
   ]
  },
  {
   "cell_type": "code",
   "execution_count": 6,
   "metadata": {},
   "outputs": [
    {
     "data": {
      "text/plain": [
       "42.0"
      ]
     },
     "execution_count": 6,
     "metadata": {},
     "output_type": "execute_result"
    }
   ],
   "source": [
    "bupt[3][7]"
   ]
  },
  {
   "cell_type": "markdown",
   "metadata": {},
   "source": [
    "生成的5,2的点本身就不准确"
   ]
  },
  {
   "cell_type": "code",
   "execution_count": 109,
   "metadata": {},
   "outputs": [],
   "source": []
  },
  {
   "cell_type": "code",
   "execution_count": 113,
   "metadata": {},
   "outputs": [],
   "source": []
  },
  {
   "cell_type": "code",
   "execution_count": 13,
   "metadata": {},
   "outputs": [],
   "source": [
    "import numpy as np\n",
    "y, x = np.mgrid[255:-1:-1, 0:256:1]"
   ]
  },
  {
   "cell_type": "code",
   "execution_count": 14,
   "metadata": {},
   "outputs": [
    {
     "data": {
      "text/plain": [
       "array([[255, 255, 255, ..., 255, 255, 255],\n",
       "       [254, 254, 254, ..., 254, 254, 254],\n",
       "       [253, 253, 253, ..., 253, 253, 253],\n",
       "       ...,\n",
       "       [  2,   2,   2, ...,   2,   2,   2],\n",
       "       [  1,   1,   1, ...,   1,   1,   1],\n",
       "       [  0,   0,   0, ...,   0,   0,   0]])"
      ]
     },
     "execution_count": 14,
     "metadata": {},
     "output_type": "execute_result"
    }
   ],
   "source": [
    "y"
   ]
  },
  {
   "cell_type": "code",
   "execution_count": 7,
   "metadata": {},
   "outputs": [],
   "source": [
    "theta = np.arctan2(y - 255/2, x - 255/2)"
   ]
  },
  {
   "cell_type": "code",
   "execution_count": 11,
   "metadata": {},
   "outputs": [
    {
     "data": {
      "text/plain": [
       "array([ 0.        , -2.35619449, -0.78539816,  0.78539816,  2.35619449])"
      ]
     },
     "execution_count": 11,
     "metadata": {},
     "output_type": "execute_result"
    }
   ],
   "source": [
    "x = np.array([1,-1, +1, +1,-1])\n",
    "y = np.array([0,-1, -1, +1, +1])\n",
    "np.arctan2(y, x)"
   ]
  },
  {
   "cell_type": "code",
   "execution_count": 115,
   "metadata": {},
   "outputs": [],
   "source": [
    "from oct_vf_model import OCTVFModel\n",
    "config={\"arch\":'resnet50'}\n",
    "net=OCTVFModel(config)"
   ]
  },
  {
   "cell_type": "code",
   "execution_count": 120,
   "metadata": {},
   "outputs": [],
   "source": [
    "from torchsummary import summary\n",
    "import torch\n"
   ]
  },
  {
   "cell_type": "code",
   "execution_count": 127,
   "metadata": {},
   "outputs": [],
   "source": [
    "input=torch.rand((3,224,224))\n",
    "input=input.unsqueeze(0)"
   ]
  },
  {
   "cell_type": "code",
   "execution_count": 128,
   "metadata": {},
   "outputs": [
    {
     "data": {
      "text/plain": [
       "torch.Size([1, 3, 224, 224])"
      ]
     },
     "execution_count": 128,
     "metadata": {},
     "output_type": "execute_result"
    }
   ],
   "source": [
    "input.shape"
   ]
  },
  {
   "cell_type": "code",
   "execution_count": 137,
   "metadata": {},
   "outputs": [],
   "source": [
    "res=net(input)"
   ]
  },
  {
   "cell_type": "code",
   "execution_count": 152,
   "metadata": {},
   "outputs": [
    {
     "data": {
      "text/plain": [
       "torch.Size([1, 54])"
      ]
     },
     "execution_count": 152,
     "metadata": {},
     "output_type": "execute_result"
    }
   ],
   "source": [
    "res[0].shape"
   ]
  },
  {
   "cell_type": "code",
   "execution_count": null,
   "metadata": {},
   "outputs": [],
   "source": [
    "res=reverse_dict(countNums)"
   ]
  },
  {
   "cell_type": "code",
   "execution_count": 141,
   "metadata": {},
   "outputs": [],
   "source": [
    "import pandas as np\n",
    "from PIL import Image\n",
    "from torchvision.transforms import transforms\n",
    "\n"
   ]
  },
  {
   "cell_type": "code",
   "execution_count": 139,
   "metadata": {},
   "outputs": [],
   "source": [
    "image_path='/home/octusr3/project/data_fast/54/20210820-sysu-oct/MAGIC4/MAGIC2242/20210713/OS/OCT/3D disc/56209.fds_9.jpg'"
   ]
  },
  {
   "cell_type": "code",
   "execution_count": 137,
   "metadata": {},
   "outputs": [],
   "source": [
    "im=Image.open(image_path).convert(RGB)"
   ]
  },
  {
   "cell_type": "code",
   "execution_count": 146,
   "metadata": {},
   "outputs": [],
   "source": [
    "process={'train': transforms.Compose([\n",
    "        transforms.ColorJitter(brightness=0.3),\n",
    "        transforms.Grayscale(num_output_channels=3),\n",
    "#transforms.RandomCrop((self.crop_size, self.crop_size)),\n",
    "        transforms.ToTensor(),\n",
    "        transforms.Normalize([0.485, 0.456, 0.406],\n",
    "                        [0.229, 0.224, 0.225])\n",
    "])}"
   ]
  },
  {
   "cell_type": "code",
   "execution_count": 150,
   "metadata": {},
   "outputs": [
    {
     "ename": "NameError",
     "evalue": "name 'img' is not defined",
     "output_type": "error",
     "traceback": [
      "\u001b[0;31m---------------------------------------------------------------------------\u001b[0m",
      "\u001b[0;31mNameError\u001b[0m                                 Traceback (most recent call last)",
      "\u001b[0;32m<ipython-input-150-95b5998f8de4>\u001b[0m in \u001b[0;36m<module>\u001b[0;34m()\u001b[0m\n\u001b[0;32m----> 1\u001b[0;31m \u001b[0mres\u001b[0m\u001b[0;34m=\u001b[0m\u001b[0mprocess\u001b[0m\u001b[0;34m[\u001b[0m\u001b[0;34m'train'\u001b[0m\u001b[0;34m]\u001b[0m\u001b[0;34m(\u001b[0m\u001b[0mimg\u001b[0m\u001b[0;34m)\u001b[0m\u001b[0;34m\u001b[0m\u001b[0;34m\u001b[0m\u001b[0m\n\u001b[0m",
      "\u001b[0;31mNameError\u001b[0m: name 'img' is not defined"
     ]
    }
   ],
   "source": [
    "res=process['train'](img)"
   ]
  },
  {
   "cell_type": "code",
   "execution_count": 149,
   "metadata": {},
   "outputs": [
    {
     "data": {
      "text/plain": [
       "torch.Size([3, 380, 7])"
      ]
     },
     "execution_count": 149,
     "metadata": {},
     "output_type": "execute_result"
    }
   ],
   "source": [
    "res.shape"
   ]
  },
  {
   "cell_type": "code",
   "execution_count": 253,
   "metadata": {},
   "outputs": [],
   "source": [
    "import pandas as pd\n",
    "from pathlib import Path\n",
    "from oct_Utils import *\n",
    "from PIL import Image"
   ]
  },
  {
   "cell_type": "code",
   "execution_count": 220,
   "metadata": {},
   "outputs": [],
   "source": [
    "img1=Path('/home/octusr3/project/oct/3D disc/110656.fds_7.jpg')\n"
   ]
  },
  {
   "cell_type": "code",
   "execution_count": 272,
   "metadata": {},
   "outputs": [],
   "source": [
    "def get_specified_image_path(centre_img_path,num=3):\n",
    "    res=[]\n",
    "    index=int(centre_img_path.name[-5])\n",
    "    begin=index-(num-1)//2\n",
    "    end=index+(num-1)//2\n",
    "    while(begin<=end):\n",
    "        res.append(str(centre_img_path.parent)+centre_img_path.stem[:-1]+str(begin)+'.jpg')\n",
    "        begin+=1\n",
    "    return res\n",
    "    \n",
    "def concat_images(images_path:list):\n",
    "    img_list=[Image.open(fn).convert('RGB') for fn in images_path]\n",
    "    width,height=img_list[0].size\n",
    "    result=Image.new(img_list[0].mode,(width*len(img_list),height))\n",
    "    \n",
    "    for i,im in enumerate(img_list):\n",
    "        result.paste(im,box=(i*width,0,(i+1)*width,height))\n",
    "    return result"
   ]
  },
  {
   "cell_type": "code",
   "execution_count": 259,
   "metadata": {},
   "outputs": [],
   "source": [
    "data=get_specified_image_path(img1)"
   ]
  },
  {
   "cell_type": "code",
   "execution_count": 276,
   "metadata": {},
   "outputs": [],
   "source": [
    "res=concat_images(data)"
   ]
  },
  {
   "cell_type": "code",
   "execution_count": 278,
   "metadata": {},
   "outputs": [
    {
     "data": {
      "image/png": "[encoded data removed]",
      "text/plain": [
       "<PIL.Image.Image image mode=RGB size=21x380 at 0x7F2EF3071898>"
      ]
     },
     "execution_count": 278,
     "metadata": {},
     "output_type": "execute_result"
    }
   ],
   "source": [
    "res"
   ]
  },
  {
   "cell_type": "code",
   "execution_count": 280,
   "metadata": {},
   "outputs": [],
   "source": [
    "from torchvision import transforms\n",
    "resize=transforms.Resize([224,224])"
   ]
  },
  {
   "cell_type": "code",
   "execution_count": 283,
   "metadata": {},
   "outputs": [
    {
     "data": {
      "text/plain": [
       "torchvision.transforms.transforms.Resize"
      ]
     },
     "execution_count": 283,
     "metadata": {},
     "output_type": "execute_result"
    }
   ],
   "source": [
    "type(resize)"
   ]
  },
  {
   "cell_type": "code",
   "execution_count": 281,
   "metadata": {},
   "outputs": [],
   "source": [
    "img=resize(res)"
   ]
  },
  {
   "cell_type": "code",
   "execution_count": 282,
   "metadata": {},
   "outputs": [
    {
     "data": {
      "image/png": "[encoded data removed]",
      "text/plain": [
       "<PIL.Image.Image image mode=RGB size=224x224 at 0x7F2EF17E7B00>"
      ]
     },
     "execution_count": 282,
     "metadata": {},
     "output_type": "execute_result"
    }
   ],
   "source": [
    "img"
   ]
  },
  {
   "cell_type": "code",
   "execution_count": 250,
   "metadata": {},
   "outputs": [],
   "source": [
    "path='/home/octusr3/project/oct/3D disc/110656.fds_6.jpg'"
   ]
  },
  {
   "cell_type": "code",
   "execution_count": 256,
   "metadata": {},
   "outputs": [],
   "source": [
    "img=Image.open(path)"
   ]
  },
  {
   "cell_type": "code",
   "execution_count": 263,
   "metadata": {},
   "outputs": [
    {
     "data": {
      "text/plain": [
       "'L'"
      ]
     },
     "execution_count": 263,
     "metadata": {},
     "output_type": "execute_result"
    }
   ],
   "source": [
    "img.mode"
   ]
  },
  {
   "cell_type": "code",
   "execution_count": 288,
   "metadata": {},
   "outputs": [],
   "source": [
    "data=pd.read_csv('new_data.csv')"
   ]
  },
  {
   "cell_type": "code",
   "execution_count": 291,
   "metadata": {},
   "outputs": [
    {
     "ename": "AttributeError",
     "evalue": "'numpy.float64' object has no attribute 'columns'",
     "output_type": "error",
     "traceback": [
      "\u001b[0;31m---------------------------------------------------------------------------\u001b[0m",
      "\u001b[0;31mAttributeError\u001b[0m                            Traceback (most recent call last)",
      "\u001b[0;32m<ipython-input-291-1a88379f6ceb>\u001b[0m in \u001b[0;36m<module>\u001b[0;34m()\u001b[0m\n\u001b[1;32m      2\u001b[0m \u001b[0mrow\u001b[0m\u001b[0;34m,\u001b[0m\u001b[0mcolumn\u001b[0m\u001b[0;34m=\u001b[0m\u001b[0midx\u001b[0m\u001b[0;34m//\u001b[0m\u001b[0;36m52\u001b[0m\u001b[0;34m,\u001b[0m\u001b[0midx\u001b[0m\u001b[0;34m%\u001b[0m\u001b[0;36m52\u001b[0m\u001b[0;34m\u001b[0m\u001b[0;34m\u001b[0m\u001b[0m\n\u001b[1;32m      3\u001b[0m \u001b[0;34m\u001b[0m\u001b[0m\n\u001b[0;32m----> 4\u001b[0;31m \u001b[0mdata\u001b[0m\u001b[0;34m.\u001b[0m\u001b[0miloc\u001b[0m\u001b[0;34m[\u001b[0m\u001b[0mrow\u001b[0m\u001b[0;34m,\u001b[0m\u001b[0mcolumn\u001b[0m\u001b[0;34m+\u001b[0m\u001b[0;36m10\u001b[0m\u001b[0;34m]\u001b[0m\u001b[0;34m.\u001b[0m\u001b[0mcolumns\u001b[0m\u001b[0;31m#这里+10是因为前面还有10列数据\u001b[0m\u001b[0;34m\u001b[0m\u001b[0;34m\u001b[0m\u001b[0m\n\u001b[0m",
      "\u001b[0;31mAttributeError\u001b[0m: 'numpy.float64' object has no attribute 'columns'"
     ]
    }
   ],
   "source": [
    "idx=5\n",
    "row,column=idx//52,idx%52\n",
    "\n",
    "data.iloc[row,column+10]#这里+10是因为前面还有10列数据"
   ]
  },
  {
   "cell_type": "code",
   "execution_count": 3,
   "metadata": {},
   "outputs": [
    {
     "ename": "KeyError",
     "evalue": "'name'",
     "output_type": "error",
     "traceback": [
      "\u001b[0;31m---------------------------------------------------------------------------\u001b[0m",
      "\u001b[0;31mKeyError\u001b[0m                                  Traceback (most recent call last)",
      "\u001b[0;32m<ipython-input-3-4edc4cd107a6>\u001b[0m in \u001b[0;36m<module>\u001b[0;34m()\u001b[0m\n\u001b[1;32m      1\u001b[0m \u001b[0msite\u001b[0m \u001b[0;34m=\u001b[0m \u001b[0;34m{\u001b[0m\u001b[0;34m\"name\"\u001b[0m\u001b[0;34m:\u001b[0m \u001b[0;34m\"菜鸟教程\"\u001b[0m\u001b[0;34m,\u001b[0m \u001b[0;34m\"url\"\u001b[0m\u001b[0;34m:\u001b[0m \u001b[0;34m\"www.runoob.com\"\u001b[0m\u001b[0;34m}\u001b[0m\u001b[0;34m\u001b[0m\u001b[0;34m\u001b[0m\u001b[0m\n\u001b[0;32m----> 2\u001b[0;31m \u001b[0mprint\u001b[0m\u001b[0;34m(\u001b[0m\u001b[0;34m\"网站名：{name}, 地址 {url}\"\u001b[0m\u001b[0;34m.\u001b[0m\u001b[0mformat\u001b[0m\u001b[0;34m(\u001b[0m\u001b[0msite\u001b[0m\u001b[0;34m)\u001b[0m\u001b[0;34m)\u001b[0m\u001b[0;34m\u001b[0m\u001b[0;34m\u001b[0m\u001b[0m\n\u001b[0m",
      "\u001b[0;31mKeyError\u001b[0m: 'name'"
     ]
    }
   ],
   "source": [
    "site = {\"name\": \"菜鸟教程\", \"url\": \"www.runoob.com\"}\n",
    "print(\"网站名：{name}, 地址 {url}\".format(site))"
   ]
  },
  {
   "cell_type": "code",
   "execution_count": null,
   "metadata": {},
   "outputs": [],
   "source": [
    "def read_np_mat(self, idx, col):\n",
    "    mat = str_to_np_mat(self.data.loc[self.data.index[idx], col], dtype=float)\n",
    "    eye = self.data.loc[self.data.index[idx], 'eye']\n",
    "    if eye == 'OS':\n",
    "        mat = np.flip(mat, axis=1)\n",
    "    result = mat[self.valid_mask]\n",
    "    return result"
   ]
  },
  {
   "cell_type": "code",
   "execution_count": 20,
   "metadata": {},
   "outputs": [],
   "source": [
    "mat=str_to_np_mat(temp['num'][4])[valid_mask]#经过测试，相当于取所有点位的有效值，按照行的形式整理成了一个一维数组"
   ]
  },
  {
   "cell_type": "code",
   "execution_count": 21,
   "metadata": {},
   "outputs": [
    {
     "data": {
      "text/plain": [
       "array([32., 31., 31., 32., 31., 27., 32., 32., 32., 32., 32., 32., 30.,\n",
       "       32., 32., 32., 32., 28., 32., 28., 32., 32., 34., 35., 34., 31.,\n",
       "       29., 28., 29., 34., 35., 34., 36., 34.,  0., 32., 29., 30., 33.,\n",
       "       33., 33., 34., 34., 30., 28., 33., 33., 30., 29., 32., 28., 29.,\n",
       "       32., 32.])"
      ]
     },
     "execution_count": 21,
     "metadata": {},
     "output_type": "execute_result"
    }
   ],
   "source": [
    "mat"
   ]
  },
  {
   "cell_type": "code",
   "execution_count": 17,
   "metadata": {},
   "outputs": [
    {
     "data": {
      "text/plain": [
       "'[[ 0.  0.  0.  0.  0.  0.  0.  0.  0.  0.]\\n [ 0.  0.  0. 32. 31. 31. 32.  0.  0.  0.]\\n [ 0.  0. 31. 27. 32. 32. 32. 32.  0.  0.]\\n [ 0. 32. 32. 30. 32. 32. 32. 32. 28.  0.]\\n [32. 28. 32. 32. 34. 35. 34. 31. 29.  0.]\\n [28. 29. 34. 35. 34. 36. 34.  0. 32.  0.]\\n [ 0. 29. 30. 33. 33. 33. 34. 34. 30.  0.]\\n [ 0.  0. 28. 33. 33. 30. 29. 32.  0.  0.]\\n [ 0.  0.  0. 28. 29. 32. 32.  0.  0.  0.]\\n [ 0.  0.  0.  0.  0.  0.  0.  0.  0.  0.]]'"
      ]
     },
     "execution_count": 17,
     "metadata": {},
     "output_type": "execute_result"
    }
   ],
   "source": [
    "mat"
   ]
  },
  {
   "cell_type": "code",
   "execution_count": 13,
   "metadata": {},
   "outputs": [],
   "source": [
    "from oct_Utils import *"
   ]
  },
  {
   "cell_type": "code",
   "execution_count": 1,
   "metadata": {},
   "outputs": [],
   "source": [
    "config={'valid_mask': '''[[0 0 0 0 0 0 0 0 0 0]\n",
    "                [0 0 0 1 1 1 1 0 0 0]\n",
    "                [0 0 1 1 1 1 1 1 0 0]\n",
    "                [0 1 1 1 1 1 1 1 1 0]\n",
    "                [1 1 1 1 1 1 1 1 1 0]\n",
    "                [1 1 1 1 1 1 1 1 1 0]\n",
    "                [0 1 1 1 1 1 1 1 1 0]\n",
    "                [0 0 1 1 1 1 1 1 0 0]\n",
    "                [0 0 0 1 1 1 1 0 0 0]\n",
    "                [0 0 0 0 0 0 0 0 0 0]]'''}"
   ]
  },
  {
   "cell_type": "code",
   "execution_count": 29,
   "metadata": {},
   "outputs": [],
   "source": [
    "valid_mask = str_to_np_mat(config['valid_mask'], dtype=int) == 1"
   ]
  },
  {
   "cell_type": "code",
   "execution_count": 15,
   "metadata": {},
   "outputs": [
    {
     "data": {
      "text/plain": [
       "array([[False, False, False, False, False, False, False, False, False,\n",
       "        False],\n",
       "       [False, False, False,  True,  True,  True,  True, False, False,\n",
       "        False],\n",
       "       [False, False,  True,  True,  True,  True,  True,  True, False,\n",
       "        False],\n",
       "       [False,  True,  True,  True,  True,  True,  True,  True,  True,\n",
       "        False],\n",
       "       [ True,  True,  True,  True,  True,  True,  True,  True,  True,\n",
       "        False],\n",
       "       [ True,  True,  True,  True,  True,  True,  True,  True,  True,\n",
       "        False],\n",
       "       [False,  True,  True,  True,  True,  True,  True,  True,  True,\n",
       "        False],\n",
       "       [False, False,  True,  True,  True,  True,  True,  True, False,\n",
       "        False],\n",
       "       [False, False, False,  True,  True,  True,  True, False, False,\n",
       "        False],\n",
       "       [False, False, False, False, False, False, False, False, False,\n",
       "        False]])"
      ]
     },
     "execution_count": 15,
     "metadata": {},
     "output_type": "execute_result"
    }
   ],
   "source": [
    "valid_mask"
   ]
  },
  {
   "cell_type": "code",
   "execution_count": 2,
   "metadata": {},
   "outputs": [],
   "source": [
    "import pandas as pd\n",
    "oral_output_path='/home/octusr3/project/oct/output/0918/disc_num_r50_380/exp-pid/results/valid-loss/data.csv'"
   ]
  },
  {
   "cell_type": "code",
   "execution_count": 3,
   "metadata": {},
   "outputs": [],
   "source": [
    "temp=pd.read_csv(oral_output_path)"
   ]
  },
  {
   "cell_type": "code",
   "execution_count": 5,
   "metadata": {},
   "outputs": [],
   "source": [
    "temp=pd.read_csv(oral_output_path)"
   ]
  },
  {
   "cell_type": "code",
   "execution_count": 9,
   "metadata": {},
   "outputs": [
    {
     "data": {
      "text/plain": [
       "'[25.562647   26.01373    25.540567   25.702322   26.700493   27.826332\\n 27.731678   27.2164     27.454329   27.193493   26.201883   28.064386\\n 29.142197   29.40283    29.07749    28.231646   28.049017   27.637892\\n 24.557333   26.760796   28.88525    29.989096   30.96741    31.485355\\n 30.174484   23.189913   27.487213   25.122164   27.750051   29.80635\\n 30.89101    31.836199   31.899698   30.686613    0.80803025 24.802814\\n 27.189543   29.059473   30.229683   30.437172   30.397839   30.011318\\n 28.488022   27.665325   28.118464   28.963436   28.982845   29.007406\\n 29.291435   28.794695   27.463987   27.640097   28.296043   28.277859  ]'"
      ]
     },
     "execution_count": 9,
     "metadata": {},
     "output_type": "execute_result"
    }
   ],
   "source": [
    "temp['pred'][0]#6*9的矩阵\n"
   ]
  },
  {
   "cell_type": "code",
   "execution_count": 2,
   "metadata": {},
   "outputs": [],
   "source": [
    "config = {\n",
    "    'task': '1002/disc_num_r50_380',\n",
    "    'id_base': 'pid',\n",
    "    'total_slice':3,\n",
    "    #'processors': [train_loss, valid_loss], #normal_valid_loss, abnormal_valid_loss] + [partial(valid_auc, n_class=1, record_index=i) for i in range(54)],\n",
    "    'savers_init': [('valid-loss', min)],#,('n-valid-loss', min),('abn-valid-loss', min)],\n",
    "\n",
    "    'train': True,\n",
    "    'batch_size': 256,\n",
    "    'num_train_epochs': 50,\n",
    "    'parallel': True,\n",
    "    #'dataset_class': OCT_54_Dataset,\n",
    "    #'model_class': OCTVF54Model,\n",
    "    'crop_size': 320,\n",
    "    #'image_root': Path('/home/octusr3/project/data_fast/54'),\n",
    "\n",
    "    'map_matrix':'''[ [0  0  0  0  0  0  0  0  0  0]\n",
    "                    [0  0  0  46 44 43 42 0  0  0]\n",
    "                    [0  0  46 45 44 43 41 43 0  0]\n",
    "                    [0  45 46 45 45 45 42 42 41 0]\n",
    "                    [46 46 47 46 50 50 50 0  41 0]\n",
    "                    [9  9  9  6  8  6  7  0  16 0]\n",
    "                    [0  10 8  7  6  8  9  13 17 0]\n",
    "                    [0  0  8  8  10 10 12 15 0  0]\n",
    "                    [0  0  0  9  10 11 14 0  0  0]\n",
    "                    [0  0  0  0  0  0  0  0  0  0]]''',\n",
    "\n",
    "    'arch': 'resnet50'\n",
    "}"
   ]
  },
  {
   "cell_type": "code",
   "execution_count": 4,
   "metadata": {},
   "outputs": [
    {
     "name": "stderr",
     "output_type": "stream",
     "text": [
      "/home/octusr3/anaconda3/lib/python3.7/site-packages/pandas/compat/_optional.py:138: UserWarning: Pandas requires version '2.7.0' or newer of 'numexpr' (version '2.6.8' currently installed).\n",
      "  warnings.warn(msg, UserWarning)\n"
     ]
    }
   ],
   "source": [
    "from oct_Utils import *\n",
    "def reverse_dict(countNums:dict):\n",
    "    res={}\n",
    "    for k,v in countNums.items():\n",
    "        for tmp in v:\n",
    "           res[str(tmp).replace(' ','')]=int(k)\n",
    "           #print(tmp)\n",
    "    return res"
   ]
  },
  {
   "cell_type": "code",
   "execution_count": 20,
   "metadata": {},
   "outputs": [],
   "source": [
    "res,_=calculate_position(str_to_np_mat(config['map_matrix']))\n"
   ]
  },
  {
   "cell_type": "code",
   "execution_count": 26,
   "metadata": {},
   "outputs": [],
   "source": [
    "valid_slice=[]\n",
    "for key,value in res.items():\n",
    "    valid_slice.append(len(value)*[key])\n",
    "valid_slice=list(chain.from_iterable(valid_slice))\n"
   ]
  },
  {
   "cell_type": "code",
   "execution_count": 28,
   "metadata": {},
   "outputs": [
    {
     "data": {
      "text/plain": [
       "{6.0: [(5, 3), (5, 5), (6, 4)],\n",
       " 7.0: [(5, 6), (6, 3)],\n",
       " 8.0: [(5, 4), (6, 2), (6, 5), (7, 2), (7, 3)],\n",
       " 9.0: [(5, 0), (5, 1), (5, 2), (6, 6), (8, 3)],\n",
       " 10.0: [(6, 1), (7, 4), (7, 5), (8, 4)],\n",
       " 11.0: [(8, 5)],\n",
       " 12.0: [(7, 6)],\n",
       " 13.0: [(6, 7)],\n",
       " 14.0: [(8, 6)],\n",
       " 15.0: [(7, 7)],\n",
       " 16.0: [(5, 8)],\n",
       " 17.0: [(6, 8)],\n",
       " 41.0: [(2, 6), (3, 8), (4, 8)],\n",
       " 42.0: [(1, 6), (3, 6), (3, 7)],\n",
       " 43.0: [(1, 5), (2, 5), (2, 7)],\n",
       " 44.0: [(1, 4), (2, 4)],\n",
       " 45.0: [(2, 3), (3, 1), (3, 3), (3, 4), (3, 5)],\n",
       " 46.0: [(1, 3), (2, 2), (3, 2), (4, 0), (4, 1), (4, 3)],\n",
       " 47.0: [(4, 2)],\n",
       " 50.0: [(4, 4), (4, 5), (4, 6)]}"
      ]
     },
     "execution_count": 28,
     "metadata": {},
     "output_type": "execute_result"
    }
   ],
   "source": [
    "res"
   ]
  },
  {
   "cell_type": "code",
   "execution_count": 24,
   "metadata": {},
   "outputs": [
    {
     "data": {
      "text/plain": [
       "{6.0: [(5, 3), (5, 5), (6, 4)],\n",
       " 7.0: [(5, 6), (6, 3)],\n",
       " 8.0: [(5, 4), (6, 2), (6, 5), (7, 2), (7, 3)],\n",
       " 9.0: [(5, 0), (5, 1), (5, 2), (6, 6), (8, 3)],\n",
       " 10.0: [(6, 1), (7, 4), (7, 5), (8, 4)],\n",
       " 11.0: [(8, 5)],\n",
       " 12.0: [(7, 6)],\n",
       " 13.0: [(6, 7)],\n",
       " 14.0: [(8, 6)],\n",
       " 15.0: [(7, 7)],\n",
       " 16.0: [(5, 8)],\n",
       " 17.0: [(6, 8)],\n",
       " 41.0: [(2, 6), (3, 8), (4, 8)],\n",
       " 42.0: [(1, 6), (3, 6), (3, 7)],\n",
       " 43.0: [(1, 5), (2, 5), (2, 7)],\n",
       " 44.0: [(1, 4), (2, 4)],\n",
       " 45.0: [(2, 3), (3, 1), (3, 3), (3, 4), (3, 5)],\n",
       " 46.0: [(1, 3), (2, 2), (3, 2), (4, 0), (4, 1), (4, 3)],\n",
       " 47.0: [(4, 2)],\n",
       " 50.0: [(4, 4), (4, 5), (4, 6)]}"
      ]
     },
     "execution_count": 24,
     "metadata": {},
     "output_type": "execute_result"
    }
   ],
   "source": [
    "res"
   ]
  },
  {
   "cell_type": "code",
   "execution_count": null,
   "metadata": {},
   "outputs": [
    {
     "data": {
      "text/plain": [
       "{6.0: [(5, 3), (5, 5), (6, 4)],\n",
       " 7.0: [(5, 6), (6, 3)],\n",
       " 8.0: [(5, 4), (6, 2), (6, 5), (7, 2), (7, 3)],\n",
       " 9.0: [(5, 0), (5, 1), (5, 2), (6, 6), (8, 3)],\n",
       " 10.0: [(6, 1), (7, 4), (7, 5), (8, 4)],\n",
       " 11.0: [(8, 5)],\n",
       " 12.0: [(7, 6)],\n",
       " 13.0: [(6, 7)],\n",
       " 14.0: [(8, 6)],\n",
       " 15.0: [(7, 7)],\n",
       " 16.0: [(5, 8)],\n",
       " 17.0: [(6, 8)],\n",
       " 41.0: [(2, 6), (3, 8), (4, 8)],\n",
       " 42.0: [(1, 6), (3, 6), (3, 7)],\n",
       " 43.0: [(1, 5), (2, 5), (2, 7)],\n",
       " 44.0: [(1, 4), (2, 4)],\n",
       " 45.0: [(2, 3), (3, 1), (3, 3), (3, 4), (3, 5)],\n",
       " 46.0: [(1, 3), (2, 2), (3, 2), (4, 0), (4, 1), (4, 3)],\n",
       " 47.0: [(4, 2)],\n",
       " 50.0: [(4, 4), (4, 5), (4, 6)]}"
      ]
     },
     "metadata": {},
     "output_type": "display_data"
    }
   ],
   "source": [
    "res"
   ]
  },
  {
   "cell_type": "code",
   "execution_count": 77,
   "metadata": {},
   "outputs": [
    {
     "data": {
      "text/plain": [
       "array([ 0.,  6.,  7.,  8.,  9., 10., 11., 12., 13., 14., 15., 16., 17.,\n",
       "       41., 42., 43., 44., 45., 46., 47., 50.])"
      ]
     },
     "execution_count": 77,
     "metadata": {},
     "output_type": "execute_result"
    }
   ],
   "source": [
    "valid_slice=np.array([ 0.,  6.,  7.,  8.,  9., 10., 11., 12., 13., 14., 15., 16., 17.,\n",
    "       41., 42., 43., 44., 45., 46., 47., 50.])#这个是有效slice切片的标识"
   ]
  },
  {
   "cell_type": "code",
   "execution_count": 64,
   "metadata": {},
   "outputs": [],
   "source": [
    "from oct_Utils import *\n",
    "\n",
    "#calculate_position(str_to_np_mat(config['map_matrix']))"
   ]
  },
  {
   "cell_type": "code",
   "execution_count": 2,
   "metadata": {},
   "outputs": [],
   "source": [
    "import pandas as pd\n",
    "data=pd.read_csv('new_data.csv')"
   ]
  },
  {
   "cell_type": "code",
   "execution_count": 11,
   "metadata": {},
   "outputs": [],
   "source": [
    "relative_path=data.iloc[data.index[10%54],1]"
   ]
  },
  {
   "cell_type": "code",
   "execution_count": 12,
   "metadata": {},
   "outputs": [
    {
     "data": {
      "text/plain": [
       "'20210730-中山眼科-OCT转VF/CASIA数据汇总-new/MP-097/OS/OCT-后/3D Disc/88548.fds.jpg'"
      ]
     },
     "execution_count": 12,
     "metadata": {},
     "output_type": "execute_result"
    }
   ],
   "source": [
    "relative_path"
   ]
  },
  {
   "cell_type": "code",
   "execution_count": 69,
   "metadata": {},
   "outputs": [
    {
     "data": {
      "text/plain": [
       "6.0"
      ]
     },
     "execution_count": 69,
     "metadata": {},
     "output_type": "execute_result"
    }
   ],
   "source": [
    "point_to_image_slice['(5,3)']"
   ]
  },
  {
   "cell_type": "code",
   "execution_count": 16,
   "metadata": {},
   "outputs": [],
   "source": [
    "from pathlib import Path"
   ]
  },
  {
   "cell_type": "code",
   "execution_count": 22,
   "metadata": {},
   "outputs": [],
   "source": [
    "temp1='/home/octusr3/project/data_fast/54/20210730-中山眼科-OCT转VF/CASIA数据汇总-new/CS-229/20190618/OD/OCT-后/3D Disc/2307.fds_50.jpg'\n",
    "temp2='/home/octusr3/project/data_fast/54/20210730-中山眼科-OCT转VF/CASIA数据汇总-new/CS-250/20190625/OD/OCT-后/3D Disc/3776.fds_7.jpg'"
   ]
  },
  {
   "cell_type": "code",
   "execution_count": 31,
   "metadata": {},
   "outputs": [
    {
     "data": {
      "text/plain": [
       "['2307.fds', '50.jpg']"
      ]
     },
     "execution_count": 31,
     "metadata": {},
     "output_type": "execute_result"
    }
   ],
   "source": [
    "Path(temp1).name.split('_')"
   ]
  },
  {
   "cell_type": "code",
   "execution_count": 39,
   "metadata": {},
   "outputs": [],
   "source": [
    "def get_specified_image_path(centre_img_path,num=3):\n",
    "    res=[]\n",
    "    index=int(Path(centre_img_path).name.split('_')[1][:-4])\n",
    "    begin=index-(num-1)//2\n",
    "    end=index+(num-1)//2\n",
    "    while(begin<=end):\n",
    "        res.append(str(Path(centre_img_path).parent)+'/'+Path(centre_img_path).stem.split('_')[0]+'_'+str(begin)+'.jpg')\n",
    "        begin+=1\n",
    "    return res"
   ]
  },
  {
   "cell_type": "code",
   "execution_count": 42,
   "metadata": {},
   "outputs": [],
   "source": [
    "res=get_specified_image_path(temp1)"
   ]
  },
  {
   "cell_type": "code",
   "execution_count": 43,
   "metadata": {},
   "outputs": [
    {
     "data": {
      "text/plain": [
       "['/home/octusr3/project/data_fast/54/20210730-中山眼科-OCT转VF/CASIA数据汇总-new/CS-229/20190618/OD/OCT-后/3D Disc/2307.fds_49.jpg',\n",
       " '/home/octusr3/project/data_fast/54/20210730-中山眼科-OCT转VF/CASIA数据汇总-new/CS-229/20190618/OD/OCT-后/3D Disc/2307.fds_50.jpg',\n",
       " '/home/octusr3/project/data_fast/54/20210730-中山眼科-OCT转VF/CASIA数据汇总-new/CS-229/20190618/OD/OCT-后/3D Disc/2307.fds_51.jpg']"
      ]
     },
     "execution_count": 43,
     "metadata": {},
     "output_type": "execute_result"
    }
   ],
   "source": [
    "res"
   ]
  },
  {
   "cell_type": "code",
   "execution_count": 45,
   "metadata": {},
   "outputs": [],
   "source": [
    "all_columns_name=data.columns.values\n",
    "column=3"
   ]
  },
  {
   "cell_type": "code",
   "execution_count": 74,
   "metadata": {},
   "outputs": [],
   "source": [
    "image_map_position=point_to_image_slice[str(all_columns_name[column+11])]"
   ]
  },
  {
   "cell_type": "code",
   "execution_count": 73,
   "metadata": {},
   "outputs": [
    {
     "data": {
      "text/plain": [
       "43.0"
      ]
     },
     "execution_count": 73,
     "metadata": {},
     "output_type": "execute_result"
    }
   ],
   "source": [
    "image_map_position"
   ]
  },
  {
   "cell_type": "code",
   "execution_count": 38,
   "metadata": {},
   "outputs": [
    {
     "ename": "KeyError",
     "evalue": "'(5,3)'",
     "output_type": "error",
     "traceback": [
      "\u001b[0;31m---------------------------------------------------------------------------\u001b[0m",
      "\u001b[0;31mKeyError\u001b[0m                                  Traceback (most recent call last)",
      "\u001b[0;32m<ipython-input-38-7a6d5d9c5491>\u001b[0m in \u001b[0;36m<module>\u001b[0;34m()\u001b[0m\n\u001b[0;32m----> 1\u001b[0;31m \u001b[0mpoint_to_image_slice\u001b[0m\u001b[0;34m[\u001b[0m\u001b[0;34m'(5,3)'\u001b[0m\u001b[0;34m]\u001b[0m\u001b[0;34m\u001b[0m\u001b[0;34m\u001b[0m\u001b[0m\n\u001b[0m",
      "\u001b[0;31mKeyError\u001b[0m: '(5,3)'"
     ]
    }
   ],
   "source": [
    "point_to_image_slice['(5,3)']"
   ]
  },
  {
   "cell_type": "code",
   "execution_count": 34,
   "metadata": {},
   "outputs": [
    {
     "data": {
      "text/plain": [
       "'(1,5)'"
      ]
     },
     "execution_count": 34,
     "metadata": {},
     "output_type": "execute_result"
    }
   ],
   "source": [
    "str(all_columns_name[column+11])"
   ]
  },
  {
   "cell_type": "code",
   "execution_count": 44,
   "metadata": {},
   "outputs": [
    {
     "ename": "NameError",
     "evalue": "name 'np' is not defined",
     "output_type": "error",
     "traceback": [
      "\u001b[0;31m---------------------------------------------------------------------------\u001b[0m",
      "\u001b[0;31mNameError\u001b[0m                                 Traceback (most recent call last)",
      "\u001b[0;32m<ipython-input-44-c392fae81ed3>\u001b[0m in \u001b[0;36m<module>\u001b[0;34m()\u001b[0m\n\u001b[0;32m----> 1\u001b[0;31m \u001b[0ma\u001b[0m \u001b[0;34m=\u001b[0m \u001b[0mnp\u001b[0m\u001b[0;34m.\u001b[0m\u001b[0marray\u001b[0m\u001b[0;34m(\u001b[0m\u001b[0;34m[\u001b[0m\u001b[0;34m[\u001b[0m\u001b[0;36m1\u001b[0m\u001b[0;34m,\u001b[0m \u001b[0;36m2\u001b[0m\u001b[0;34m]\u001b[0m\u001b[0;34m,\u001b[0m \u001b[0;34m[\u001b[0m\u001b[0;36m3\u001b[0m\u001b[0;34m,\u001b[0m \u001b[0;36m4\u001b[0m\u001b[0;34m]\u001b[0m\u001b[0;34m]\u001b[0m\u001b[0;34m)\u001b[0m\u001b[0;34m\u001b[0m\u001b[0;34m\u001b[0m\u001b[0m\n\u001b[0m\u001b[1;32m      2\u001b[0m \u001b[0;34m\u001b[0m\u001b[0m\n\u001b[1;32m      3\u001b[0m \u001b[0mIn\u001b[0m \u001b[0;34m[\u001b[0m\u001b[0;36m24\u001b[0m\u001b[0;34m]\u001b[0m\u001b[0;34m:\u001b[0m \u001b[0mb\u001b[0m \u001b[0;34m=\u001b[0m \u001b[0mnp\u001b[0m\u001b[0;34m.\u001b[0m\u001b[0marray\u001b[0m\u001b[0;34m(\u001b[0m\u001b[0;34m[\u001b[0m\u001b[0;34m[\u001b[0m\u001b[0;36m5\u001b[0m\u001b[0;34m,\u001b[0m \u001b[0;36m6\u001b[0m\u001b[0;34m]\u001b[0m\u001b[0;34m]\u001b[0m\u001b[0;34m)\u001b[0m\u001b[0;34m\u001b[0m\u001b[0;34m\u001b[0m\u001b[0m\n\u001b[1;32m      4\u001b[0m \u001b[0;34m\u001b[0m\u001b[0m\n\u001b[1;32m      5\u001b[0m \u001b[0mIn\u001b[0m \u001b[0;34m[\u001b[0m\u001b[0;36m25\u001b[0m\u001b[0;34m]\u001b[0m\u001b[0;34m:\u001b[0m \u001b[0mnp\u001b[0m\u001b[0;34m.\u001b[0m\u001b[0mconcatenate\u001b[0m\u001b[0;34m(\u001b[0m\u001b[0;34m(\u001b[0m\u001b[0ma\u001b[0m\u001b[0;34m,\u001b[0m \u001b[0mb\u001b[0m\u001b[0;34m)\u001b[0m\u001b[0;34m,\u001b[0m \u001b[0maxis\u001b[0m\u001b[0;34m=\u001b[0m\u001b[0;36m0\u001b[0m\u001b[0;34m)\u001b[0m\u001b[0;34m\u001b[0m\u001b[0;34m\u001b[0m\u001b[0m\n",
      "\u001b[0;31mNameError\u001b[0m: name 'np' is not defined"
     ]
    }
   ],
   "source": [
    "a = np.array([[1, 2], [3, 4]])\n",
    "\n",
    "b = np.array([[5, 6]])\n",
    "\n",
    "np.concatenate((a, b), axis=0)"
   ]
  },
  {
   "cell_type": "code",
   "execution_count": 9,
   "metadata": {},
   "outputs": [],
   "source": [
    "# 初始化原始数据点\n",
    "import numpy as np\n",
    "x1 = np.array([1, 2, 3, 1, 5, 6, 5, 5, 6, 7, 8, 9, 7, 9])\n",
    "x2 = np.array([1, 3, 2, 2, 8, 6, 7, 6, 7, 1, 2, 1, 1, 3])\n",
    "#X = np.array(zip(x1, x2)).reshape(len(x1), 2)"
   ]
  },
  {
   "cell_type": "code",
   "execution_count": 10,
   "metadata": {},
   "outputs": [
    {
     "ename": "AttributeError",
     "evalue": "'numpy.ndarray' object has no attribute 'numpy'",
     "output_type": "error",
     "traceback": [
      "\u001b[0;31m---------------------------------------------------------------------------\u001b[0m",
      "\u001b[0;31mAttributeError\u001b[0m                            Traceback (most recent call last)",
      "\u001b[0;32m<ipython-input-10-a27a9c78da82>\u001b[0m in \u001b[0;36m<module>\u001b[0;34m()\u001b[0m\n\u001b[1;32m      1\u001b[0m \u001b[0;34m\u001b[0m\u001b[0m\n\u001b[0;32m----> 2\u001b[0;31m \u001b[0mx1\u001b[0m\u001b[0;34m.\u001b[0m\u001b[0mnumpy\u001b[0m\u001b[0;34m(\u001b[0m\u001b[0;34m)\u001b[0m\u001b[0;34m\u001b[0m\u001b[0;34m\u001b[0m\u001b[0m\n\u001b[0m",
      "\u001b[0;31mAttributeError\u001b[0m: 'numpy.ndarray' object has no attribute 'numpy'"
     ]
    }
   ],
   "source": [
    "\n",
    "x1.numpy()"
   ]
  },
  {
   "cell_type": "code",
   "execution_count": 7,
   "metadata": {},
   "outputs": [
    {
     "name": "stdout",
     "output_type": "stream",
     "text": [
      "[(1, 1), (2, 3), (3, 2), (1, 2), (5, 8), (6, 6), (5, 7), (5, 6), (6, 7), (7, 1), (8, 2), (9, 1), (7, 1), (9, 3)]\n"
     ]
    }
   ],
   "source": [
    "print(list(zip(x1,x2)))"
   ]
  },
  {
   "cell_type": "code",
   "execution_count": 11,
   "metadata": {},
   "outputs": [],
   "source": [
    "from OCT_54_vf_model import OCTVF54Model"
   ]
  },
  {
   "cell_type": "code",
   "execution_count": 28,
   "metadata": {},
   "outputs": [],
   "source": [
    "config = {\n",
    "        'task': '1002/disc_num_r50_380',\n",
    "        'id_base': 'pid',\n",
    "        'total_slice':3,\n",
    "        #'processors': [train_loss, valid_loss], #normal_valid_loss, abnormal_valid_loss] + [partial(valid_auc, n_class=1, record_index=i) for i in range(54)],\n",
    "        'savers_init': [('valid-loss', min)],#,('n-valid-loss', min),('abn-valid-loss', min)],\n",
    "        'mode':'train',\n",
    "        'train': True,\n",
    "        'batch_size': 768,\n",
    "        'num_train_epochs': 5,\n",
    "        'parallel': True,\n",
    "        #'dataset_class': OCT_54_Dataset,\n",
    "        'model_class': OCTVF54Model,\n",
    "        'crop_size': 320,\n",
    "        #'image_root': Path('/home/octusr3/project/data_fast/54'),\n",
    "\n",
    "\n",
    "        'map_matrix':'''[ [0  0  0  0  0  0  0  0  0  0]\n",
    "                        [0  0  0  46 44 43 42 0  0  0]\n",
    "                        [0  0  46 45 44 43 41 43 0  0]\n",
    "                        [0  45 46 45 45 45 42 42 41 0]\n",
    "                        [46 46 47 46 50 50 50 3  41 0]\n",
    "                        [9  9  9  6  8  6  7  3  16 0]\n",
    "                        [0  10 8  7  6  8  9  13 17 0]\n",
    "                        [0  0  8  8  10 10 12 15 0  0]\n",
    "                        [0  0  0  9  10 11 14 0  0  0]\n",
    "                        [0  0  0  0  0  0  0  0  0  0]]''',\n",
    "\n",
    "        'arch': 'resnet50'#中间两个tag为3的点是视野盲区，无法推断\n",
    "    }"
   ]
  },
  {
   "cell_type": "code",
   "execution_count": 78,
   "metadata": {},
   "outputs": [],
   "source": [
    "bupt=str_to_np_mat(config['map_matrix'])"
   ]
  },
  {
   "cell_type": "code",
   "execution_count": 79,
   "metadata": {},
   "outputs": [
    {
     "data": {
      "text/plain": [
       "array([[0, 0],\n",
       "       [0, 1],\n",
       "       [0, 2],\n",
       "       [0, 3],\n",
       "       [0, 4],\n",
       "       [0, 5],\n",
       "       [0, 6],\n",
       "       [0, 7],\n",
       "       [0, 8],\n",
       "       [0, 9],\n",
       "       [1, 0],\n",
       "       [1, 1],\n",
       "       [1, 2],\n",
       "       [1, 7],\n",
       "       [1, 8],\n",
       "       [1, 9],\n",
       "       [2, 0],\n",
       "       [2, 1],\n",
       "       [2, 8],\n",
       "       [2, 9],\n",
       "       [3, 0],\n",
       "       [3, 9],\n",
       "       [4, 7],\n",
       "       [4, 9],\n",
       "       [5, 7],\n",
       "       [5, 9],\n",
       "       [6, 0],\n",
       "       [6, 9],\n",
       "       [7, 0],\n",
       "       [7, 1],\n",
       "       [7, 8],\n",
       "       [7, 9],\n",
       "       [8, 0],\n",
       "       [8, 1],\n",
       "       [8, 2],\n",
       "       [8, 7],\n",
       "       [8, 8],\n",
       "       [8, 9],\n",
       "       [9, 0],\n",
       "       [9, 1],\n",
       "       [9, 2],\n",
       "       [9, 3],\n",
       "       [9, 4],\n",
       "       [9, 5],\n",
       "       [9, 6],\n",
       "       [9, 7],\n",
       "       [9, 8],\n",
       "       [9, 9]])"
      ]
     },
     "execution_count": 79,
     "metadata": {},
     "output_type": "execute_result"
    }
   ],
   "source": [
    "np.argwhere(bupt==0)"
   ]
  },
  {
   "cell_type": "code",
   "execution_count": 31,
   "metadata": {},
   "outputs": [],
   "source": [
    "import torch\n",
    "import torch.nn as nn\n",
    "from torchvision import models\n",
    "\n",
    "\n",
    "class Model(nn.Module):\n",
    "    def __init__(self, config):\n",
    "        self.arch=config['arch']\n",
    "\n",
    "        self.loss_fn = nn.MSELoss(reduction='none')\n",
    "\n",
    "        if self.arch == 'resnet18':\n",
    "            self.net = models.resnet18(pretrained=True)\n",
    "            n_out = 512\n",
    "        elif self.arch == 'resnet50':\n",
    "            self.net = models.resnet50(pretrained=True)\n",
    "            n_out = 2048\n",
    "\n",
    "        self.net.fc = nn.Sequential(\n",
    "            nn.Linear(n_out, n_out),\n",
    "            nn.ReLU(),\n",
    "            nn.Linear(n_out, 1)\n",
    "        )\n",
    "    \n",
    "    def backbone_parameters(self):\n",
    "        return map(lambda kv: kv[1], filter(lambda kv: not kv[0].startswith('fc.'), self.net.named_parameters()))\n",
    "\n",
    "    def head_parameters(self):\n",
    "        return self.net.fc.parameters()\n",
    "\n",
    "    def _forward(self, img):\n",
    "        return self.net(img)\n",
    "\n",
    "    def forward(self, img, label=None, loss_weights=None):\n",
    "        y = self.net(img)\n",
    "        loss = None\n",
    "        if label is not None:\n",
    "           loss = self.loss_fn(y, label)\n",
    "            #loss = raw_loss * loss_weights\n",
    "        return y, loss"
   ]
  },
  {
   "cell_type": "code",
   "execution_count": 32,
   "metadata": {},
   "outputs": [
    {
     "ename": "AttributeError",
     "evalue": "cannot assign module before Module.__init__() call",
     "output_type": "error",
     "traceback": [
      "\u001b[0;31m---------------------------------------------------------------------------\u001b[0m",
      "\u001b[0;31mAttributeError\u001b[0m                            Traceback (most recent call last)",
      "\u001b[0;32m<ipython-input-32-236880dff691>\u001b[0m in \u001b[0;36m<module>\u001b[0;34m()\u001b[0m\n\u001b[0;32m----> 1\u001b[0;31m \u001b[0mnet\u001b[0m\u001b[0;34m=\u001b[0m\u001b[0mModel\u001b[0m\u001b[0;34m(\u001b[0m\u001b[0mconfig\u001b[0m\u001b[0;34m)\u001b[0m\u001b[0;34m\u001b[0m\u001b[0;34m\u001b[0m\u001b[0m\n\u001b[0m",
      "\u001b[0;32m<ipython-input-31-9f7bb1e6ac44>\u001b[0m in \u001b[0;36m__init__\u001b[0;34m(self, config)\u001b[0m\n\u001b[1;32m      8\u001b[0m         \u001b[0mself\u001b[0m\u001b[0;34m.\u001b[0m\u001b[0march\u001b[0m\u001b[0;34m=\u001b[0m\u001b[0mconfig\u001b[0m\u001b[0;34m[\u001b[0m\u001b[0;34m'arch'\u001b[0m\u001b[0;34m]\u001b[0m\u001b[0;34m\u001b[0m\u001b[0;34m\u001b[0m\u001b[0m\n\u001b[1;32m      9\u001b[0m \u001b[0;34m\u001b[0m\u001b[0m\n\u001b[0;32m---> 10\u001b[0;31m         \u001b[0mself\u001b[0m\u001b[0;34m.\u001b[0m\u001b[0mloss_fn\u001b[0m \u001b[0;34m=\u001b[0m \u001b[0mnn\u001b[0m\u001b[0;34m.\u001b[0m\u001b[0mMSELoss\u001b[0m\u001b[0;34m(\u001b[0m\u001b[0mreduction\u001b[0m\u001b[0;34m=\u001b[0m\u001b[0;34m'none'\u001b[0m\u001b[0;34m)\u001b[0m\u001b[0;34m\u001b[0m\u001b[0;34m\u001b[0m\u001b[0m\n\u001b[0m\u001b[1;32m     11\u001b[0m \u001b[0;34m\u001b[0m\u001b[0m\n\u001b[1;32m     12\u001b[0m         \u001b[0;32mif\u001b[0m \u001b[0mself\u001b[0m\u001b[0;34m.\u001b[0m\u001b[0march\u001b[0m \u001b[0;34m==\u001b[0m \u001b[0;34m'resnet18'\u001b[0m\u001b[0;34m:\u001b[0m\u001b[0;34m\u001b[0m\u001b[0;34m\u001b[0m\u001b[0m\n",
      "\u001b[0;32m~/anaconda3/lib/python3.7/site-packages/torch/nn/modules/module.py\u001b[0m in \u001b[0;36m__setattr__\u001b[0;34m(self, name, value)\u001b[0m\n\u001b[1;32m    975\u001b[0m                 \u001b[0;32mif\u001b[0m \u001b[0mmodules\u001b[0m \u001b[0;32mis\u001b[0m \u001b[0;32mNone\u001b[0m\u001b[0;34m:\u001b[0m\u001b[0;34m\u001b[0m\u001b[0;34m\u001b[0m\u001b[0m\n\u001b[1;32m    976\u001b[0m                     raise AttributeError(\n\u001b[0;32m--> 977\u001b[0;31m                         \"cannot assign module before Module.__init__() call\")\n\u001b[0m\u001b[1;32m    978\u001b[0m                 \u001b[0mremove_from\u001b[0m\u001b[0;34m(\u001b[0m\u001b[0mself\u001b[0m\u001b[0;34m.\u001b[0m\u001b[0m__dict__\u001b[0m\u001b[0;34m,\u001b[0m \u001b[0mself\u001b[0m\u001b[0;34m.\u001b[0m\u001b[0m_parameters\u001b[0m\u001b[0;34m,\u001b[0m \u001b[0mself\u001b[0m\u001b[0;34m.\u001b[0m\u001b[0m_buffers\u001b[0m\u001b[0;34m,\u001b[0m \u001b[0mself\u001b[0m\u001b[0;34m.\u001b[0m\u001b[0m_non_persistent_buffers_set\u001b[0m\u001b[0;34m)\u001b[0m\u001b[0;34m\u001b[0m\u001b[0;34m\u001b[0m\u001b[0m\n\u001b[1;32m    979\u001b[0m                 \u001b[0mmodules\u001b[0m\u001b[0;34m[\u001b[0m\u001b[0mname\u001b[0m\u001b[0;34m]\u001b[0m \u001b[0;34m=\u001b[0m \u001b[0mvalue\u001b[0m\u001b[0;34m\u001b[0m\u001b[0;34m\u001b[0m\u001b[0m\n",
      "\u001b[0;31mAttributeError\u001b[0m: cannot assign module before Module.__init__() call"
     ]
    }
   ],
   "source": [
    "net=Model(config)"
   ]
  },
  {
   "cell_type": "code",
   "execution_count": null,
   "metadata": {},
   "outputs": [],
   "source": [
    "net.eval()\n",
    "img = Image.open(r\"dog.jpg\")\n",
    "img = img.resize((256, 256), Image.BILINEAR)\n",
    "img = np.array(img)\n",
    " \n",
    "to_tensor = transforms.Compose([\n",
    "                transforms.ToTensor(),\n",
    "                transforms.Normalize((0.485, 0.456, 0.406), (0.229, 0.224, 0.225))])\n",
    "img = to_tensor(img)\n",
    "img = torch.unsqueeze(img, 0) #给最高位添加一个维度，也就是batchsize的大小\n",
    " \n",
    "img1 = img\n",
    "outputs = net(img1)"
   ]
  },
  {
   "cell_type": "code",
   "execution_count": 51,
   "metadata": {},
   "outputs": [],
   "source": [
    "output=torch.rand((768,1))\n",
    "temp=torch.rand((768,1))"
   ]
  },
  {
   "cell_type": "code",
   "execution_count": 52,
   "metadata": {},
   "outputs": [
    {
     "data": {
      "text/plain": [
       "torch.Size([768])"
      ]
     },
     "execution_count": 52,
     "metadata": {},
     "output_type": "execute_result"
    }
   ],
   "source": [
    "output.squeeze().shape"
   ]
  },
  {
   "cell_type": "code",
   "execution_count": 73,
   "metadata": {},
   "outputs": [],
   "source": [
    "res=[]"
   ]
  },
  {
   "cell_type": "code",
   "execution_count": 74,
   "metadata": {},
   "outputs": [],
   "source": [
    "for i in range(2):\n",
    "    res.append(np.array(torch.rand((768,1)).squeeze()))\n",
    "res=np.concatenate(res,axis=0)"
   ]
  },
  {
   "cell_type": "code",
   "execution_count": 77,
   "metadata": {},
   "outputs": [
    {
     "ename": "ValueError",
     "evalue": "cannot reshape array of size 1536 into shape (54)",
     "output_type": "error",
     "traceback": [
      "\u001b[0;31m---------------------------------------------------------------------------\u001b[0m",
      "\u001b[0;31mValueError\u001b[0m                                Traceback (most recent call last)",
      "\u001b[0;32m<ipython-input-77-ff8202199f99>\u001b[0m in \u001b[0;36m<module>\u001b[0;34m()\u001b[0m\n\u001b[0;32m----> 1\u001b[0;31m \u001b[0mres\u001b[0m\u001b[0;34m.\u001b[0m\u001b[0mreshape\u001b[0m\u001b[0;34m(\u001b[0m\u001b[0;34m-\u001b[0m\u001b[0;36m1\u001b[0m\u001b[0;34m,\u001b[0m\u001b[0;36m54\u001b[0m\u001b[0;34m)\u001b[0m\u001b[0;34m\u001b[0m\u001b[0;34m\u001b[0m\u001b[0m\n\u001b[0m",
      "\u001b[0;31mValueError\u001b[0m: cannot reshape array of size 1536 into shape (54)"
     ]
    }
   ],
   "source": [
    "res.reshape(-1,54)"
   ]
  },
  {
   "cell_type": "code",
   "execution_count": 71,
   "metadata": {},
   "outputs": [
    {
     "ename": "AttributeError",
     "evalue": "'list' object has no attribute 'flatten'",
     "output_type": "error",
     "traceback": [
      "\u001b[0;31m---------------------------------------------------------------------------\u001b[0m",
      "\u001b[0;31mAttributeError\u001b[0m                            Traceback (most recent call last)",
      "\u001b[0;32m<ipython-input-71-32cb300a35e6>\u001b[0m in \u001b[0;36m<module>\u001b[0;34m()\u001b[0m\n\u001b[0;32m----> 1\u001b[0;31m \u001b[0mres\u001b[0m\u001b[0;34m=\u001b[0m\u001b[0mres\u001b[0m\u001b[0;34m.\u001b[0m\u001b[0mflatten\u001b[0m\u001b[0;34m(\u001b[0m\u001b[0;34m)\u001b[0m\u001b[0;34m\u001b[0m\u001b[0;34m\u001b[0m\u001b[0m\n\u001b[0m",
      "\u001b[0;31mAttributeError\u001b[0m: 'list' object has no attribute 'flatten'"
     ]
    }
   ],
   "source": [
    "res=res.flatten()"
   ]
  },
  {
   "cell_type": "code",
   "execution_count": null,
   "metadata": {},
   "outputs": [],
   "source": [
    "res=flatten(res)"
   ]
  },
  {
   "cell_type": "code",
   "execution_count": 11,
   "metadata": {},
   "outputs": [],
   "source": [
    "import torch\n",
    "import torch.nn as nn\n",
    "a=torch.zeros([128,1])\n",
    "b=torch.ones([128,1])*7"
   ]
  },
  {
   "cell_type": "code",
   "execution_count": 12,
   "metadata": {},
   "outputs": [],
   "source": [
    "loss= torch.nn.MSELoss(reduction='none')"
   ]
  },
  {
   "cell_type": "code",
   "execution_count": 13,
   "metadata": {},
   "outputs": [],
   "source": [
    "fuc=loss(a,b)"
   ]
  },
  {
   "cell_type": "code",
   "execution_count": 14,
   "metadata": {},
   "outputs": [
    {
     "data": {
      "text/plain": [
       "tensor(49.)"
      ]
     },
     "execution_count": 14,
     "metadata": {},
     "output_type": "execute_result"
    }
   ],
   "source": [
    "btorch.mean(fuc)"
   ]
  },
  {
   "cell_type": "code",
   "execution_count": 3,
   "metadata": {},
   "outputs": [],
   "source": [
    "import pandas as pd\n",
    "import numpy as np\n",
    "index = pd.MultiIndex.from_product([['TX', 'FL', 'CA'], \n",
    "                                    ['North', 'South']], \n",
    "                                   names=['State', 'Direction'])\n",
    "\n",
    "df = pd.DataFrame(index=index, \n",
    "                  data=np.random.randint(0, 10, (6,4)), \n",
    "                  columns=list('abcd'))"
   ]
  },
  {
   "cell_type": "code",
   "execution_count": 6,
   "metadata": {},
   "outputs": [
    {
     "data": {
      "text/html": [
       "<div>\n",
       "<style scoped>\n",
       "    .dataframe tbody tr th:only-of-type {\n",
       "        vertical-align: middle;\n",
       "    }\n",
       "\n",
       "    .dataframe tbody tr th {\n",
       "        vertical-align: top;\n",
       "    }\n",
       "\n",
       "    .dataframe thead th {\n",
       "        text-align: right;\n",
       "    }\n",
       "</style>\n",
       "<table border=\"1\" class=\"dataframe\">\n",
       "  <thead>\n",
       "    <tr style=\"text-align: right;\">\n",
       "      <th></th>\n",
       "      <th>State</th>\n",
       "      <th>Direction</th>\n",
       "      <th>a</th>\n",
       "      <th>b</th>\n",
       "      <th>c</th>\n",
       "      <th>d</th>\n",
       "    </tr>\n",
       "  </thead>\n",
       "  <tbody>\n",
       "    <tr>\n",
       "      <th>0</th>\n",
       "      <td>TX</td>\n",
       "      <td>North</td>\n",
       "      <td>5</td>\n",
       "      <td>5</td>\n",
       "      <td>6</td>\n",
       "      <td>6</td>\n",
       "    </tr>\n",
       "    <tr>\n",
       "      <th>1</th>\n",
       "      <td>TX</td>\n",
       "      <td>South</td>\n",
       "      <td>3</td>\n",
       "      <td>2</td>\n",
       "      <td>0</td>\n",
       "      <td>7</td>\n",
       "    </tr>\n",
       "    <tr>\n",
       "      <th>2</th>\n",
       "      <td>FL</td>\n",
       "      <td>North</td>\n",
       "      <td>0</td>\n",
       "      <td>8</td>\n",
       "      <td>7</td>\n",
       "      <td>0</td>\n",
       "    </tr>\n",
       "    <tr>\n",
       "      <th>3</th>\n",
       "      <td>FL</td>\n",
       "      <td>South</td>\n",
       "      <td>6</td>\n",
       "      <td>7</td>\n",
       "      <td>2</td>\n",
       "      <td>9</td>\n",
       "    </tr>\n",
       "    <tr>\n",
       "      <th>4</th>\n",
       "      <td>CA</td>\n",
       "      <td>North</td>\n",
       "      <td>2</td>\n",
       "      <td>6</td>\n",
       "      <td>5</td>\n",
       "      <td>0</td>\n",
       "    </tr>\n",
       "    <tr>\n",
       "      <th>5</th>\n",
       "      <td>CA</td>\n",
       "      <td>South</td>\n",
       "      <td>7</td>\n",
       "      <td>5</td>\n",
       "      <td>0</td>\n",
       "      <td>5</td>\n",
       "    </tr>\n",
       "  </tbody>\n",
       "</table>\n",
       "</div>"
      ],
      "text/plain": [
       "  State Direction  a  b  c  d\n",
       "0    TX     North  5  5  6  6\n",
       "1    TX     South  3  2  0  7\n",
       "2    FL     North  0  8  7  0\n",
       "3    FL     South  6  7  2  9\n",
       "4    CA     North  2  6  5  0\n",
       "5    CA     South  7  5  0  5"
      ]
     },
     "execution_count": 6,
     "metadata": {},
     "output_type": "execute_result"
    }
   ],
   "source": [
    "df.reset_index()"
   ]
  },
  {
   "cell_type": "code",
   "execution_count": 29,
   "metadata": {},
   "outputs": [],
   "source": [
    "data=pd.read_csv('data.csv')\n",
    "tem=str_to_np_mat(data['num'][4])\n"
   ]
  },
  {
   "cell_type": "code",
   "execution_count": 30,
   "metadata": {},
   "outputs": [
    {
     "data": {
      "text/plain": [
       "array([[ 0.,  0.,  0.,  0.,  0.,  0.,  0.,  0.,  0.,  0.],\n",
       "       [ 0.,  0.,  0., 32., 31., 31., 32.,  0.,  0.,  0.],\n",
       "       [ 0.,  0., 31., 27., 32., 32., 32., 32.,  0.,  0.],\n",
       "       [ 0., 32., 32., 30., 32., 32., 32., 32., 28.,  0.],\n",
       "       [32., 28., 32., 32., 34., 35., 34., 31., 29.,  0.],\n",
       "       [28., 29., 34., 35., 34., 36., 34.,  0., 32.,  0.],\n",
       "       [ 0., 29., 30., 33., 33., 33., 34., 34., 30.,  0.],\n",
       "       [ 0.,  0., 28., 33., 33., 30., 29., 32.,  0.,  0.],\n",
       "       [ 0.,  0.,  0., 28., 29., 32., 32.,  0.,  0.,  0.],\n",
       "       [ 0.,  0.,  0.,  0.,  0.,  0.,  0.,  0.,  0.,  0.]])"
      ]
     },
     "execution_count": 30,
     "metadata": {},
     "output_type": "execute_result"
    }
   ],
   "source": [
    "tem"
   ]
  },
  {
   "cell_type": "code",
   "execution_count": 33,
   "metadata": {},
   "outputs": [
    {
     "ename": "SyntaxError",
     "evalue": "invalid syntax (<ipython-input-33-00bc23ee6cb9>, line 1)",
     "output_type": "error",
     "traceback": [
      "\u001b[0;36m  File \u001b[0;32m\"<ipython-input-33-00bc23ee6cb9>\"\u001b[0;36m, line \u001b[0;32m1\u001b[0m\n\u001b[0;31m    for k\u001b[0m\n\u001b[0m         ^\u001b[0m\n\u001b[0;31mSyntaxError\u001b[0m\u001b[0;31m:\u001b[0m invalid syntax\n"
     ]
    }
   ],
   "source": [
    "for k"
   ]
  },
  {
   "cell_type": "code",
   "execution_count": 50,
   "metadata": {},
   "outputs": [],
   "source": [
    "def generate_vf_proposal(config):\n",
    "\n",
    "    '''\n",
    "    这里需要对边界框作复映射，以此来保证最终proposal区域够54个点\n",
    "    '''\n",
    "    vf_dict,_=calculate_position(str_to_np_mat(config['map_matrix']))\n",
    "    valid_slice=[]\n",
    "    valid_position=[]\n",
    "    for key,value in vf_dict.items():\n",
    "        for tem in value:\n",
    "            valid_slice.append(key)\n",
    "            valid_position.append(tem)\n",
    "        #valid_slice.append(len(value)*[key])已经扩充到了54点，中间包含重复值的slice\n",
    "    \n",
    "    centre_point_x=np.linspace((224/54)/2,224-(224/54)/2,54)\n",
    "    centre_point_y=np.repeat(112,54)\n",
    "    w,h=224/54,224\n",
    "    temp=[(centre_point_y-h/2).reshape(54,-1),(centre_point_x-w/2).reshape(54,-1),(centre_point_y+h/2).reshape(54,-1),(centre_point_x+w/2).reshape(54,-1)]\n",
    "    proposal=np.concatenate(temp,axis=1)\n",
    "    #return valid_slice\n",
    "    return proposal[np.array((valid_slice),dtype=int)-1],valid_slice,valid_position#提取出有效proposal区域"
   ]
  },
  {
   "cell_type": "code",
   "execution_count": 53,
   "metadata": {},
   "outputs": [],
   "source": [
    "a,b,c=generate_vf_proposal(config)"
   ]
  },
  {
   "cell_type": "code",
   "execution_count": 66,
   "metadata": {},
   "outputs": [],
   "source": [
    "data=pd.read_csv('data.csv')\n",
    "num=str_to_np_mat(data['num'][4])"
   ]
  },
  {
   "cell_type": "code",
   "execution_count": 71,
   "metadata": {},
   "outputs": [],
   "source": [
    "x=(4,5)"
   ]
  },
  {
   "cell_type": "code",
   "execution_count": 72,
   "metadata": {},
   "outputs": [
    {
     "data": {
      "text/plain": [
       "35.0"
      ]
     },
     "execution_count": 72,
     "metadata": {},
     "output_type": "execute_result"
    }
   ],
   "source": [
    "num[x[0]][x[1]]"
   ]
  },
  {
   "cell_type": "code",
   "execution_count": 77,
   "metadata": {},
   "outputs": [
    {
     "data": {
      "text/plain": [
       "[(5, 3),\n",
       " (5, 5),\n",
       " (6, 4),\n",
       " (5, 6),\n",
       " (6, 3),\n",
       " (5, 4),\n",
       " (6, 2),\n",
       " (6, 5),\n",
       " (7, 2),\n",
       " (7, 3),\n",
       " (5, 0),\n",
       " (5, 1),\n",
       " (5, 2),\n",
       " (6, 6),\n",
       " (8, 3),\n",
       " (6, 1),\n",
       " (7, 4),\n",
       " (7, 5),\n",
       " (8, 4),\n",
       " (8, 5),\n",
       " (7, 6),\n",
       " (6, 7),\n",
       " (8, 6),\n",
       " (7, 7),\n",
       " (5, 8),\n",
       " (6, 8),\n",
       " (2, 6),\n",
       " (3, 8),\n",
       " (4, 8),\n",
       " (1, 6),\n",
       " (3, 6),\n",
       " (3, 7),\n",
       " (1, 5),\n",
       " (2, 5),\n",
       " (2, 7),\n",
       " (1, 4),\n",
       " (2, 4),\n",
       " (2, 3),\n",
       " (3, 1),\n",
       " (3, 3),\n",
       " (3, 4),\n",
       " (3, 5),\n",
       " (1, 3),\n",
       " (2, 2),\n",
       " (3, 2),\n",
       " (4, 0),\n",
       " (4, 1),\n",
       " (4, 3),\n",
       " (4, 2),\n",
       " (4, 4),\n",
       " (4, 5),\n",
       " (4, 6)]"
      ]
     },
     "execution_count": 77,
     "metadata": {},
     "output_type": "execute_result"
    }
   ],
   "source": [
    "c"
   ]
  },
  {
   "cell_type": "code",
   "execution_count": 73,
   "metadata": {},
   "outputs": [],
   "source": [
    "def get_proposal_label(mat,valid_position):#根据序列标识进行测试，最终得到的结果\n",
    "    #坐标的序列都是从0-9，所以 直接映射就可以\n",
    "    res=[]\n",
    "    for i in valid_position:\n",
    "        res.append(mat[i[0]][i[1]])\n",
    "    return np.array(res)"
   ]
  },
  {
   "cell_type": "code",
   "execution_count": 74,
   "metadata": {},
   "outputs": [],
   "source": [
    "tem=get_proposal_label(num,valid_position=c)"
   ]
  },
  {
   "cell_type": "code",
   "execution_count": 75,
   "metadata": {},
   "outputs": [
    {
     "data": {
      "text/plain": [
       "array([35., 36., 33., 34., 33., 34., 30., 33., 28., 33., 28., 29., 34.,\n",
       "       34., 28., 29., 33., 30., 29., 32., 29., 34., 32., 32., 32., 30.,\n",
       "       32., 28., 29., 32., 32., 32., 31., 32., 32., 31., 32., 27., 32.,\n",
       "       30., 32., 32., 32., 31., 32., 32., 28., 32., 32., 34., 35., 34.])"
      ]
     },
     "execution_count": 75,
     "metadata": {},
     "output_type": "execute_result"
    }
   ],
   "source": [
    "tem"
   ]
  }
 ],
 "metadata": {
  "interpreter": {
   "hash": "623a9f8af0be4123d72a49457fdd65b442f8fe6d5b5109249813d94319742a73"
  },
  "kernelspec": {
   "display_name": "Python 3.7.2 64-bit ('base': conda)",
   "name": "python3"
  },
  "language_info": {
   "codemirror_mode": {
    "name": "ipython",
    "version": 3
   },
   "file_extension": ".py",
   "mimetype": "text/x-python",
   "name": "python",
   "nbconvert_exporter": "python",
   "pygments_lexer": "ipython3",
   "version": "3.7.2"
  },
  "orig_nbformat": 4
 },
 "nbformat": 4,
 "nbformat_minor": 2
}
