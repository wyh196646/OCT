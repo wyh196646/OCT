{
 "cells": [
  {
   "cell_type": "code",
   "execution_count": 1,
   "metadata": {},
   "outputs": [
    {
     "name": "stderr",
     "output_type": "stream",
     "text": [
      "/home/octusr3/anaconda3/lib/python3.7/site-packages/pandas/compat/_optional.py:138: UserWarning: Pandas requires version '2.7.0' or newer of 'numexpr' (version '2.6.8' currently installed).\n",
      "  warnings.warn(msg, UserWarning)\n"
     ]
    }
   ],
   "source": [
    "from oct_Utils import *\n",
    "import itertools\n",
    "import pandas as pd"
   ]
  },
  {
   "cell_type": "code",
   "execution_count": 2,
   "metadata": {},
   "outputs": [],
   "source": [
    "df = pd.read_csv('/home/octusr3/project/oct/csv/0916.csv')\n",
    "df = df[['image_path', 'source', 'pid', 'dates', 'eye', 'pos', 'num', 'pd_prob']]\n",
    "#print_df(df)"
   ]
  },
  {
   "cell_type": "code",
   "execution_count": 3,
   "metadata": {},
   "outputs": [
    {
     "name": "stdout",
     "output_type": "stream",
     "text": [
      "{'OD': 13353, 'OS': 13100}\n",
      "{'disc': 13392, 'macula': 13061}\n"
     ]
    }
   ],
   "source": [
    "vc(df['eye'])\n",
    "vc(df['pos'])"
   ]
  },
  {
   "cell_type": "code",
   "execution_count": 10,
   "metadata": {},
   "outputs": [],
   "source": [
    "id_base = 'pid'\n",
    "date = '1112'\n",
    "label_type = 'num'\n",
    "\n",
    "for model, size, pos in itertools.product(['r50'], ['380'], ['disc', 'macula']):\n",
    "    exp_name = f'{date}/{pos}_{label_type}_{model}_{size}'\n",
    "    df_tmp = df.copy()\n",
    "    df_tmp = df_tmp[df_tmp['pos'] == pos]\n",
    "    df_tmp['dataset'] = df_tmp[id_base].map(to_dataset_mapping(df_tmp[id_base].tolist(), 5))\n",
    "    ensure_path(f'output/{exp_name}/exp-{id_base}/tasks')\n",
    "    df_tmp.to_csv(f'output/{exp_name}/exp-{id_base}/tasks/data.csv', index=False)"
   ]
  }
 ],
 "metadata": {
  "interpreter": {
   "hash": "623a9f8af0be4123d72a49457fdd65b442f8fe6d5b5109249813d94319742a73"
  },
  "kernelspec": {
   "display_name": "Python 3.7.2 64-bit ('base': conda)",
   "name": "python3"
  },
  "language_info": {
   "codemirror_mode": {
    "name": "ipython",
    "version": 3
   },
   "file_extension": ".py",
   "mimetype": "text/x-python",
   "name": "python",
   "nbconvert_exporter": "python",
   "pygments_lexer": "ipython3",
   "version": "3.7.2"
  }
 },
 "nbformat": 4,
 "nbformat_minor": 5
}
