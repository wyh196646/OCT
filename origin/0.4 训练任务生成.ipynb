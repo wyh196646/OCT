{
 "cells": [
  {
   "cell_type": "code",
   "execution_count": 1,
   "source": [
    "from oct_Utils import *"
   ],
   "outputs": [],
   "metadata": {}
  },
  {
   "cell_type": "code",
   "execution_count": 24,
   "source": [
    "df = pd.read_csv('/home/octusr3/project/oct/csv/0916.csv')\n",
    "df = df[['image_path', 'source', 'pid', 'dates', 'eye', 'pos', 'num', 'pd_prob']]\n",
    "print_df(df)"
   ],
   "outputs": [
    {
     "output_type": "stream",
     "name": "stdout",
     "text": [
      "['image_path', 'source', 'pid', 'dates', 'eye', 'pos', 'num', 'pd_prob']\n",
      "18637\n"
     ]
    },
    {
     "output_type": "display_data",
     "data": {
      "text/html": [
       "<div>\n",
       "<style scoped>\n",
       "    .dataframe tbody tr th:only-of-type {\n",
       "        vertical-align: middle;\n",
       "    }\n",
       "\n",
       "    .dataframe tbody tr th {\n",
       "        vertical-align: top;\n",
       "    }\n",
       "\n",
       "    .dataframe thead th {\n",
       "        text-align: right;\n",
       "    }\n",
       "</style>\n",
       "<table border=\"1\" class=\"dataframe\">\n",
       "  <thead>\n",
       "    <tr style=\"text-align: right;\">\n",
       "      <th></th>\n",
       "      <th>image_path</th>\n",
       "      <th>source</th>\n",
       "      <th>pid</th>\n",
       "      <th>dates</th>\n",
       "      <th>eye</th>\n",
       "      <th>pos</th>\n",
       "      <th>num</th>\n",
       "      <th>pd_prob</th>\n",
       "    </tr>\n",
       "  </thead>\n",
       "  <tbody>\n",
       "    <tr>\n",
       "      <th>0</th>\n",
       "      <td>20210730-中山眼科-OCT转VF/CASIA数据汇总-new/CRC-009-143...</td>\n",
       "      <td>CASIA数据汇总-new</td>\n",
       "      <td>CRC-009-143</td>\n",
       "      <td>2018-06-26</td>\n",
       "      <td>OS</td>\n",
       "      <td>macula</td>\n",
       "      <td>[[ 0  0  0  0  0  0  0  0  0  0]\\n [ 0  0  0 2...</td>\n",
       "      <td>[[0 0 0 0 0 0 0 0 0 0]\\n [0 0 0 1 1 1 1 0 0 0]...</td>\n",
       "    </tr>\n",
       "    <tr>\n",
       "      <th>...</th>\n",
       "      <td>...</td>\n",
       "      <td>...</td>\n",
       "      <td>...</td>\n",
       "      <td>...</td>\n",
       "      <td>...</td>\n",
       "      <td>...</td>\n",
       "      <td>...</td>\n",
       "      <td>...</td>\n",
       "    </tr>\n",
       "    <tr>\n",
       "      <th>18636</th>\n",
       "      <td>20210820-sysu-oct/MAGIC3/MAGIC1633/20201209/OD...</td>\n",
       "      <td>MAGIC3</td>\n",
       "      <td>MAGIC1633</td>\n",
       "      <td>2020-12-09</td>\n",
       "      <td>OD</td>\n",
       "      <td>macula</td>\n",
       "      <td>[[ 0.  0.  0.  0.  0.  0.  0.  0.  0.  0.]\\n [...</td>\n",
       "      <td>[[0. 0. 0. 0. 0. 0. 0. 0. 0. 0.]\\n [0. 0. 0. 1...</td>\n",
       "    </tr>\n",
       "  </tbody>\n",
       "</table>\n",
       "<p>18637 rows × 8 columns</p>\n",
       "</div>"
      ],
      "text/plain": [
       "                                              image_path         source  \\\n",
       "0      20210730-中山眼科-OCT转VF/CASIA数据汇总-new/CRC-009-143...  CASIA数据汇总-new   \n",
       "...                                                  ...            ...   \n",
       "18636  20210820-sysu-oct/MAGIC3/MAGIC1633/20201209/OD...         MAGIC3   \n",
       "\n",
       "               pid       dates eye     pos  \\\n",
       "0      CRC-009-143  2018-06-26  OS  macula   \n",
       "...            ...         ...  ..     ...   \n",
       "18636    MAGIC1633  2020-12-09  OD  macula   \n",
       "\n",
       "                                                     num  \\\n",
       "0      [[ 0  0  0  0  0  0  0  0  0  0]\\n [ 0  0  0 2...   \n",
       "...                                                  ...   \n",
       "18636  [[ 0.  0.  0.  0.  0.  0.  0.  0.  0.  0.]\\n [...   \n",
       "\n",
       "                                                 pd_prob  \n",
       "0      [[0 0 0 0 0 0 0 0 0 0]\\n [0 0 0 1 1 1 1 0 0 0]...  \n",
       "...                                                  ...  \n",
       "18636  [[0. 0. 0. 0. 0. 0. 0. 0. 0. 0.]\\n [0. 0. 0. 1...  \n",
       "\n",
       "[18637 rows x 8 columns]"
      ]
     },
     "metadata": {}
    }
   ],
   "metadata": {}
  },
  {
   "cell_type": "code",
   "execution_count": 25,
   "source": [
    "vc(df['eye'])\n",
    "vc(df['pos'])"
   ],
   "outputs": [
    {
     "output_type": "stream",
     "name": "stdout",
     "text": [
      "{'OD': 9409, 'OS': 9228}\n",
      "{'disc': 9516, 'macula': 9121}\n"
     ]
    }
   ],
   "metadata": {}
  },
  {
   "cell_type": "code",
   "execution_count": 26,
   "source": [
    "id_base = 'pid'\n",
    "date = '0831'\n",
    "label_type = 'num'\n",
    "\n",
    "for model, size, pos in product(['r50'], ['380'], ['disc', 'macula']):\n",
    "    exp_name = f'{date}/{pos}_{label_type}_{model}_{size}'\n",
    "    df_tmp = df.copy()\n",
    "    df_tmp = df_tmp[df_tmp['pos'] == pos]\n",
    "    df_tmp['dataset'] = df_tmp[id_base].map(to_dataset_mapping(df_tmp[id_base].tolist(), 5))\n",
    "    ensure_path(f'output/{exp_name}/exp-{id_base}/tasks')\n",
    "    df_tmp.to_csv(f'output/{exp_name}/exp-{id_base}/tasks/data.csv', index=False)"
   ],
   "outputs": [],
   "metadata": {}
  }
 ],
 "metadata": {
  "kernelspec": {
   "name": "python3",
   "display_name": "Python 3.7.2 64-bit ('base': conda)"
  },
  "language_info": {
   "codemirror_mode": {
    "name": "ipython",
    "version": 3
   },
   "file_extension": ".py",
   "mimetype": "text/x-python",
   "name": "python",
   "nbconvert_exporter": "python",
   "pygments_lexer": "ipython3",
   "version": "3.7.2"
  },
  "interpreter": {
   "hash": "2092ff7edfec3b56fec5652af09570141a5419527a294e25af3dbef5a0b75afd"
  }
 },
 "nbformat": 4,
 "nbformat_minor": 5
}