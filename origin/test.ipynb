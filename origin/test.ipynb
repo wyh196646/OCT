{
 "cells": [
  {
   "cell_type": "code",
   "execution_count": 19,
   "source": [
    "from pathlib import *\n",
    "import os\n",
    "filepath='bupt/fds.py'\n",
    "res=Path(os.path.dirname(filepath)).mkdir(parents=False, exist_ok=True)"
   ],
   "outputs": [],
   "metadata": {}
  },
  {
   "cell_type": "code",
   "execution_count": 12,
   "source": [
    "\n",
    "Path(\"/home/octusr3/project/oct/origin/directory\").mkdir(parents=False, exist_ok=True)"
   ],
   "outputs": [],
   "metadata": {}
  },
  {
   "cell_type": "code",
   "execution_count": 6,
   "source": [
    "data=os.path.dirname(filepath)\n",
    "data"
   ],
   "outputs": [
    {
     "output_type": "execute_result",
     "data": {
      "text/plain": [
       "'home/octusr3/project/oct/origin'"
      ]
     },
     "metadata": {},
     "execution_count": 6
    }
   ],
   "metadata": {}
  }
 ],
 "metadata": {
  "orig_nbformat": 4,
  "language_info": {
   "name": "python",
   "version": "3.7.2",
   "mimetype": "text/x-python",
   "codemirror_mode": {
    "name": "ipython",
    "version": 3
   },
   "pygments_lexer": "ipython3",
   "nbconvert_exporter": "python",
   "file_extension": ".py"
  },
  "kernelspec": {
   "name": "python3",
   "display_name": "Python 3.7.2 64-bit ('base': conda)"
  },
  "interpreter": {
   "hash": "2092ff7edfec3b56fec5652af09570141a5419527a294e25af3dbef5a0b75afd"
  }
 },
 "nbformat": 4,
 "nbformat_minor": 2
}