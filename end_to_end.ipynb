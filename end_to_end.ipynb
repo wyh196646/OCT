{
 "cells": [
  {
   "cell_type": "code",
   "execution_count": 81,
   "metadata": {},
   "outputs": [
    {
     "ename": "ModuleNotFoundError",
     "evalue": "No module named 'utils'",
     "output_type": "error",
     "traceback": [
      "\u001b[0;31m---------------------------------------------------------------------------\u001b[0m",
      "\u001b[0;31mModuleNotFoundError\u001b[0m                       Traceback (most recent call last)",
      "\u001b[0;32m<ipython-input-81-6d7956150dac>\u001b[0m in \u001b[0;36m<module>\u001b[0;34m()\u001b[0m\n\u001b[1;32m     30\u001b[0m \u001b[0;32mimport\u001b[0m \u001b[0mtorchvision\u001b[0m\u001b[0;34m.\u001b[0m\u001b[0mmodels\u001b[0m \u001b[0;32mas\u001b[0m \u001b[0mmodels\u001b[0m\u001b[0;34m\u001b[0m\u001b[0;34m\u001b[0m\u001b[0m\n\u001b[1;32m     31\u001b[0m \u001b[0;32mfrom\u001b[0m \u001b[0mtorchsummary\u001b[0m \u001b[0;32mimport\u001b[0m \u001b[0msummary\u001b[0m\u001b[0;34m\u001b[0m\u001b[0;34m\u001b[0m\u001b[0m\n\u001b[0;32m---> 32\u001b[0;31m \u001b[0;32mfrom\u001b[0m \u001b[0mutils\u001b[0m\u001b[0;34m.\u001b[0m\u001b[0mconfig\u001b[0m \u001b[0;32mimport\u001b[0m \u001b[0mopt\u001b[0m\u001b[0;34m\u001b[0m\u001b[0;34m\u001b[0m\u001b[0m\n\u001b[0m",
      "\u001b[0;31mModuleNotFoundError\u001b[0m: No module named 'utils'"
     ]
    }
   ],
   "source": [
    "import numpy as np\n",
    "import pandas as pd\n",
    "from tqdm import tqdm\n",
    "import json\n",
    "import cv2\n",
    "import os\n",
    "import re\n",
    "import pickle\n",
    "import math\n",
    "from pathlib import *\n",
    "import multiprocessing\n",
    "import random\n",
    "import matplotlib.pyplot as plt\n",
    "import numpy as np\n",
    "import torch\n",
    "import torch.nn as nn\n",
    "from collections import *\n",
    "from itertools import *\n",
    "from functools import *\n",
    "from sklearn.metrics import *\n",
    "from scipy.stats import *\n",
    "import pandas as pd\n",
    "import seaborn as sns\n",
    "import hashlib\n",
    "from PIL import Image\n",
    "from datastatics import *\n",
    "from oct_Utils import *\n",
    "import itertools\n",
    "from torchvision.ops import RoIPool\n",
    "import torchvision.models as models\n",
    "from torchsummary import summary\n"
   ]
  },
  {
   "cell_type": "code",
   "execution_count": 1,
   "metadata": {},
   "outputs": [],
   "source": [
    "def generate_anchor_base(base_size=16, ratios=[0.5, 1, 2],\n",
    "                         anchor_scales=[8, 16, 32]):\n",
    "\n",
    "    py = base_size / 2.\n",
    "    px = base_size / 2.\n",
    "\n",
    "    anchor_base = np.zeros((len(ratios) * len(anchor_scales), 4),\n",
    "                           dtype=np.float32)\n",
    "    for i in range(len(ratios)):\n",
    "        for j in range(len(anchor_scales)):\n",
    "            h = base_size * anchor_scales[j] * np.sqrt(ratios[i])\n",
    "            w = base_size * anchor_scales[j] * np.sqrt(1. / ratios[i])\n",
    "\n",
    "\n",
    "            index = i * len(anchor_scales) + j\n",
    "            anchor_base[index, 0] = py - h / 2.\n",
    "            anchor_base[index, 1] = px - w / 2.\n",
    "            anchor_base[index, 2] = py + h / 2.\n",
    "            anchor_base[index, 3] = px + w / 2.\n",
    "    return anchor_base"
   ]
  },
  {
   "cell_type": "code",
   "execution_count": 4,
   "metadata": {},
   "outputs": [],
   "source": [
    "anchor=generate_anchor_base()"
   ]
  },
  {
   "cell_type": "code",
   "execution_count": 120,
   "metadata": {},
   "outputs": [],
   "source": [
    "def generate_vf_proposal():\n",
    "    centre_point_x=np.linspace((224/54)/2,224-(224/54)/2,54)\n",
    "    centre_point_y=np.repeat(112,54)\n",
    "    w=224/54\n",
    "    h=224\n",
    "    temp=[(centre_point_y-h/2).reshape(54,-1),(centre_point_x-w/2).reshape(54,-1),(centre_point_y+h/2).reshape(54,-1),(centre_point_x+w/2).reshape(54,-1)]\n",
    "    proposal=np.concatenate(temp,axis=1)\n",
    "    return proposal\n",
    "    #return np.concatenate([centre_point_y-,])"
   ]
  },
  {
   "cell_type": "code",
   "execution_count": 121,
   "metadata": {},
   "outputs": [],
   "source": [
    "bupt=generate_vf_proposal()"
   ]
  },
  {
   "cell_type": "code",
   "execution_count": 122,
   "metadata": {},
   "outputs": [
    {
     "data": {
      "text/plain": [
       "array([[  0.        ,   0.        , 224.        ,   4.14814815],\n",
       "       [  0.        ,   4.14814815, 224.        ,   8.2962963 ],\n",
       "       [  0.        ,   8.2962963 , 224.        ,  12.44444444],\n",
       "       [  0.        ,  12.44444444, 224.        ,  16.59259259],\n",
       "       [  0.        ,  16.59259259, 224.        ,  20.74074074],\n",
       "       [  0.        ,  20.74074074, 224.        ,  24.88888889],\n",
       "       [  0.        ,  24.88888889, 224.        ,  29.03703704],\n",
       "       [  0.        ,  29.03703704, 224.        ,  33.18518519],\n",
       "       [  0.        ,  33.18518519, 224.        ,  37.33333333],\n",
       "       [  0.        ,  37.33333333, 224.        ,  41.48148148],\n",
       "       [  0.        ,  41.48148148, 224.        ,  45.62962963],\n",
       "       [  0.        ,  45.62962963, 224.        ,  49.77777778],\n",
       "       [  0.        ,  49.77777778, 224.        ,  53.92592593],\n",
       "       [  0.        ,  53.92592593, 224.        ,  58.07407407],\n",
       "       [  0.        ,  58.07407407, 224.        ,  62.22222222],\n",
       "       [  0.        ,  62.22222222, 224.        ,  66.37037037],\n",
       "       [  0.        ,  66.37037037, 224.        ,  70.51851852],\n",
       "       [  0.        ,  70.51851852, 224.        ,  74.66666667],\n",
       "       [  0.        ,  74.66666667, 224.        ,  78.81481481],\n",
       "       [  0.        ,  78.81481481, 224.        ,  82.96296296],\n",
       "       [  0.        ,  82.96296296, 224.        ,  87.11111111],\n",
       "       [  0.        ,  87.11111111, 224.        ,  91.25925926],\n",
       "       [  0.        ,  91.25925926, 224.        ,  95.40740741],\n",
       "       [  0.        ,  95.40740741, 224.        ,  99.55555556],\n",
       "       [  0.        ,  99.55555556, 224.        , 103.7037037 ],\n",
       "       [  0.        , 103.7037037 , 224.        , 107.85185185],\n",
       "       [  0.        , 107.85185185, 224.        , 112.        ],\n",
       "       [  0.        , 112.        , 224.        , 116.14814815],\n",
       "       [  0.        , 116.14814815, 224.        , 120.2962963 ],\n",
       "       [  0.        , 120.2962963 , 224.        , 124.44444444],\n",
       "       [  0.        , 124.44444444, 224.        , 128.59259259],\n",
       "       [  0.        , 128.59259259, 224.        , 132.74074074],\n",
       "       [  0.        , 132.74074074, 224.        , 136.88888889],\n",
       "       [  0.        , 136.88888889, 224.        , 141.03703704],\n",
       "       [  0.        , 141.03703704, 224.        , 145.18518519],\n",
       "       [  0.        , 145.18518519, 224.        , 149.33333333],\n",
       "       [  0.        , 149.33333333, 224.        , 153.48148148],\n",
       "       [  0.        , 153.48148148, 224.        , 157.62962963],\n",
       "       [  0.        , 157.62962963, 224.        , 161.77777778],\n",
       "       [  0.        , 161.77777778, 224.        , 165.92592593],\n",
       "       [  0.        , 165.92592593, 224.        , 170.07407407],\n",
       "       [  0.        , 170.07407407, 224.        , 174.22222222],\n",
       "       [  0.        , 174.22222222, 224.        , 178.37037037],\n",
       "       [  0.        , 178.37037037, 224.        , 182.51851852],\n",
       "       [  0.        , 182.51851852, 224.        , 186.66666667],\n",
       "       [  0.        , 186.66666667, 224.        , 190.81481481],\n",
       "       [  0.        , 190.81481481, 224.        , 194.96296296],\n",
       "       [  0.        , 194.96296296, 224.        , 199.11111111],\n",
       "       [  0.        , 199.11111111, 224.        , 203.25925926],\n",
       "       [  0.        , 203.25925926, 224.        , 207.40740741],\n",
       "       [  0.        , 207.40740741, 224.        , 211.55555556],\n",
       "       [  0.        , 211.55555556, 224.        , 215.7037037 ],\n",
       "       [  0.        , 215.7037037 , 224.        , 219.85185185],\n",
       "       [  0.        , 219.85185185, 224.        , 224.        ]])"
      ]
     },
     "execution_count": 122,
     "metadata": {},
     "output_type": "execute_result"
    }
   ],
   "source": [
    "bupt"
   ]
  },
  {
   "cell_type": "code",
   "execution_count": 106,
   "metadata": {},
   "outputs": [],
   "source": [
    "from oct_vf_model import OCTVFModel\n",
    "from torchsummary import summary\n",
    "import torchvision.models as models\n",
    "\n",
    "def generate_vf_proposal():\n",
    "    centre_point_x=np.linspace((224/54)/2,224-(224/54)/2,54)\n",
    "    centre_point_y=np.repeat(112,54)\n",
    "    w=224/54\n",
    "    h=224\n",
    "    temp=[(centre_point_y-h/2).reshape(54,-1),(centre_point_x-w/2).reshape(54,-1),(centre_point_y+h/2).reshape(54,-1),(centre_point_x+w/2).reshape(54,-1)]\n",
    "    proposal=np.concatenate(temp,axis=1)\n",
    "    return proposal\n",
    "    #return np.concatenate([centre_point_y-,])\n",
    "\n",
    "def normal_init(m, mean, stddev, truncated=False):\n",
    "    \"\"\"\n",
    "    weight initalizer: truncated normal and random normal.\n",
    "    \"\"\"\n",
    "    # x is a parameter\n",
    "    if truncated:\n",
    "        m.weight.data.normal_().fmod_(2).mul_(stddev).add_(mean)  # not a perfect approximation\n",
    "    else:\n",
    "        m.weight.data.normal_(mean, stddev)\n",
    "        m.bias.data.zero_()\n",
    "\n",
    "def decom_ResNet50():\n",
    "    model=models.ResNet50(pretrained=True)\n",
    "    feature=nn.Sequential(**list(model.children()[:-3]))\n",
    "    reg_layer=nn.Sequential(\n",
    "        model.avgpool,\n",
    "        nn.Linear(512,1000)#输出的feature是1000\n",
    "    )\n",
    "    return feature,reg_layer\n",
    "    \n",
    "class OCT_ROI_head(nn.Module):\n",
    "\n",
    "    def __init__(self, classifier, roi_size=7, spatial_scale=16):\n",
    "        super(OCT_ROI_head, self).__init__()\n",
    "        self.feature,self.reg_layer=decom_ResNet50()\n",
    "        self.vf_pred = nn.Linear(4096, 1)\n",
    "        normal_init(self.vf_pred, 0, 0.01)\n",
    "        self.roi_size = roi_size\n",
    "        self.spatial_scale = spatial_scale\n",
    "        self.roi = RoIPool( (self.roi_size, self.roi_size),self.spatial_scale)\n",
    " \n",
    "    def forward(self, x, rois, roi_indices):\n",
    "        roi_indices =torch.tensor(roi_indices).float()\n",
    "        rois = torch.tensor(rois).float()\n",
    "        indices_and_rois = torch.cat([roi_indices[:, None], rois], dim=1)\n",
    "        xy_indices_and_rois = indices_and_rois[:, [0, 2, 1, 4, 3]]\n",
    "        pool = self.roi(x, indices_and_rois)\n",
    "        fc7 = self.classifier(pool)\n",
    "        vf_predicted_value = self.vf_pred(fc7)\n",
    "        \n",
    "        return vf_predicted_value\n"
   ]
  },
  {
   "cell_type": "code",
   "execution_count": 97,
   "metadata": {},
   "outputs": [],
   "source": [
    "extractor, classifier = decom_ResNet50()\n",
    "net=OCT_ROI_head(roi_size=7,spatial_scale=(1./feat_stride),classfier=classifier)"
   ]
  },
  {
   "cell_type": "markdown",
   "metadata": {},
   "source": []
  },
  {
   "cell_type": "code",
   "execution_count": 116,
   "metadata": {},
   "outputs": [],
   "source": [
    "\n",
    "model=models.resnet50(pretrained=True)\n"
   ]
  },
  {
   "cell_type": "code",
   "execution_count": 119,
   "metadata": {},
   "outputs": [
    {
     "name": "stdout",
     "output_type": "stream",
     "text": [
      "----------------------------------------------------------------\n",
      "        Layer (type)               Output Shape         Param #\n",
      "================================================================\n",
      "            Conv2d-1          [1, 64, 112, 112]           9,408\n",
      "       BatchNorm2d-2          [1, 64, 112, 112]             128\n",
      "              ReLU-3          [1, 64, 112, 112]               0\n",
      "         MaxPool2d-4            [1, 64, 56, 56]               0\n",
      "            Conv2d-5            [1, 64, 56, 56]           4,096\n",
      "       BatchNorm2d-6            [1, 64, 56, 56]             128\n",
      "              ReLU-7            [1, 64, 56, 56]               0\n",
      "            Conv2d-8            [1, 64, 56, 56]          36,864\n",
      "       BatchNorm2d-9            [1, 64, 56, 56]             128\n",
      "             ReLU-10            [1, 64, 56, 56]               0\n",
      "           Conv2d-11           [1, 256, 56, 56]          16,384\n",
      "      BatchNorm2d-12           [1, 256, 56, 56]             512\n",
      "           Conv2d-13           [1, 256, 56, 56]          16,384\n",
      "      BatchNorm2d-14           [1, 256, 56, 56]             512\n",
      "             ReLU-15           [1, 256, 56, 56]               0\n",
      "       Bottleneck-16           [1, 256, 56, 56]               0\n",
      "           Conv2d-17            [1, 64, 56, 56]          16,384\n",
      "      BatchNorm2d-18            [1, 64, 56, 56]             128\n",
      "             ReLU-19            [1, 64, 56, 56]               0\n",
      "           Conv2d-20            [1, 64, 56, 56]          36,864\n",
      "      BatchNorm2d-21            [1, 64, 56, 56]             128\n",
      "             ReLU-22            [1, 64, 56, 56]               0\n",
      "           Conv2d-23           [1, 256, 56, 56]          16,384\n",
      "      BatchNorm2d-24           [1, 256, 56, 56]             512\n",
      "             ReLU-25           [1, 256, 56, 56]               0\n",
      "       Bottleneck-26           [1, 256, 56, 56]               0\n",
      "           Conv2d-27            [1, 64, 56, 56]          16,384\n",
      "      BatchNorm2d-28            [1, 64, 56, 56]             128\n",
      "             ReLU-29            [1, 64, 56, 56]               0\n",
      "           Conv2d-30            [1, 64, 56, 56]          36,864\n",
      "      BatchNorm2d-31            [1, 64, 56, 56]             128\n",
      "             ReLU-32            [1, 64, 56, 56]               0\n",
      "           Conv2d-33           [1, 256, 56, 56]          16,384\n",
      "      BatchNorm2d-34           [1, 256, 56, 56]             512\n",
      "             ReLU-35           [1, 256, 56, 56]               0\n",
      "       Bottleneck-36           [1, 256, 56, 56]               0\n",
      "           Conv2d-37           [1, 128, 56, 56]          32,768\n",
      "      BatchNorm2d-38           [1, 128, 56, 56]             256\n",
      "             ReLU-39           [1, 128, 56, 56]               0\n",
      "           Conv2d-40           [1, 128, 28, 28]         147,456\n",
      "      BatchNorm2d-41           [1, 128, 28, 28]             256\n",
      "             ReLU-42           [1, 128, 28, 28]               0\n",
      "           Conv2d-43           [1, 512, 28, 28]          65,536\n",
      "      BatchNorm2d-44           [1, 512, 28, 28]           1,024\n",
      "           Conv2d-45           [1, 512, 28, 28]         131,072\n",
      "      BatchNorm2d-46           [1, 512, 28, 28]           1,024\n",
      "             ReLU-47           [1, 512, 28, 28]               0\n",
      "       Bottleneck-48           [1, 512, 28, 28]               0\n",
      "           Conv2d-49           [1, 128, 28, 28]          65,536\n",
      "      BatchNorm2d-50           [1, 128, 28, 28]             256\n",
      "             ReLU-51           [1, 128, 28, 28]               0\n",
      "           Conv2d-52           [1, 128, 28, 28]         147,456\n",
      "      BatchNorm2d-53           [1, 128, 28, 28]             256\n",
      "             ReLU-54           [1, 128, 28, 28]               0\n",
      "           Conv2d-55           [1, 512, 28, 28]          65,536\n",
      "      BatchNorm2d-56           [1, 512, 28, 28]           1,024\n",
      "             ReLU-57           [1, 512, 28, 28]               0\n",
      "       Bottleneck-58           [1, 512, 28, 28]               0\n",
      "           Conv2d-59           [1, 128, 28, 28]          65,536\n",
      "      BatchNorm2d-60           [1, 128, 28, 28]             256\n",
      "             ReLU-61           [1, 128, 28, 28]               0\n",
      "           Conv2d-62           [1, 128, 28, 28]         147,456\n",
      "      BatchNorm2d-63           [1, 128, 28, 28]             256\n",
      "             ReLU-64           [1, 128, 28, 28]               0\n",
      "           Conv2d-65           [1, 512, 28, 28]          65,536\n",
      "      BatchNorm2d-66           [1, 512, 28, 28]           1,024\n",
      "             ReLU-67           [1, 512, 28, 28]               0\n",
      "       Bottleneck-68           [1, 512, 28, 28]               0\n",
      "           Conv2d-69           [1, 128, 28, 28]          65,536\n",
      "      BatchNorm2d-70           [1, 128, 28, 28]             256\n",
      "             ReLU-71           [1, 128, 28, 28]               0\n",
      "           Conv2d-72           [1, 128, 28, 28]         147,456\n",
      "      BatchNorm2d-73           [1, 128, 28, 28]             256\n",
      "             ReLU-74           [1, 128, 28, 28]               0\n",
      "           Conv2d-75           [1, 512, 28, 28]          65,536\n",
      "      BatchNorm2d-76           [1, 512, 28, 28]           1,024\n",
      "             ReLU-77           [1, 512, 28, 28]               0\n",
      "       Bottleneck-78           [1, 512, 28, 28]               0\n",
      "           Conv2d-79           [1, 256, 28, 28]         131,072\n",
      "      BatchNorm2d-80           [1, 256, 28, 28]             512\n",
      "             ReLU-81           [1, 256, 28, 28]               0\n",
      "           Conv2d-82           [1, 256, 14, 14]         589,824\n",
      "      BatchNorm2d-83           [1, 256, 14, 14]             512\n",
      "             ReLU-84           [1, 256, 14, 14]               0\n",
      "           Conv2d-85          [1, 1024, 14, 14]         262,144\n",
      "      BatchNorm2d-86          [1, 1024, 14, 14]           2,048\n",
      "           Conv2d-87          [1, 1024, 14, 14]         524,288\n",
      "      BatchNorm2d-88          [1, 1024, 14, 14]           2,048\n",
      "             ReLU-89          [1, 1024, 14, 14]               0\n",
      "       Bottleneck-90          [1, 1024, 14, 14]               0\n",
      "           Conv2d-91           [1, 256, 14, 14]         262,144\n",
      "      BatchNorm2d-92           [1, 256, 14, 14]             512\n",
      "             ReLU-93           [1, 256, 14, 14]               0\n",
      "           Conv2d-94           [1, 256, 14, 14]         589,824\n",
      "      BatchNorm2d-95           [1, 256, 14, 14]             512\n",
      "             ReLU-96           [1, 256, 14, 14]               0\n",
      "           Conv2d-97          [1, 1024, 14, 14]         262,144\n",
      "      BatchNorm2d-98          [1, 1024, 14, 14]           2,048\n",
      "             ReLU-99          [1, 1024, 14, 14]               0\n",
      "      Bottleneck-100          [1, 1024, 14, 14]               0\n",
      "          Conv2d-101           [1, 256, 14, 14]         262,144\n",
      "     BatchNorm2d-102           [1, 256, 14, 14]             512\n",
      "            ReLU-103           [1, 256, 14, 14]               0\n",
      "          Conv2d-104           [1, 256, 14, 14]         589,824\n",
      "     BatchNorm2d-105           [1, 256, 14, 14]             512\n",
      "            ReLU-106           [1, 256, 14, 14]               0\n",
      "          Conv2d-107          [1, 1024, 14, 14]         262,144\n",
      "     BatchNorm2d-108          [1, 1024, 14, 14]           2,048\n",
      "            ReLU-109          [1, 1024, 14, 14]               0\n",
      "      Bottleneck-110          [1, 1024, 14, 14]               0\n",
      "          Conv2d-111           [1, 256, 14, 14]         262,144\n",
      "     BatchNorm2d-112           [1, 256, 14, 14]             512\n",
      "            ReLU-113           [1, 256, 14, 14]               0\n",
      "          Conv2d-114           [1, 256, 14, 14]         589,824\n",
      "     BatchNorm2d-115           [1, 256, 14, 14]             512\n",
      "            ReLU-116           [1, 256, 14, 14]               0\n",
      "          Conv2d-117          [1, 1024, 14, 14]         262,144\n",
      "     BatchNorm2d-118          [1, 1024, 14, 14]           2,048\n",
      "            ReLU-119          [1, 1024, 14, 14]               0\n",
      "      Bottleneck-120          [1, 1024, 14, 14]               0\n",
      "          Conv2d-121           [1, 256, 14, 14]         262,144\n",
      "     BatchNorm2d-122           [1, 256, 14, 14]             512\n",
      "            ReLU-123           [1, 256, 14, 14]               0\n",
      "          Conv2d-124           [1, 256, 14, 14]         589,824\n",
      "     BatchNorm2d-125           [1, 256, 14, 14]             512\n",
      "            ReLU-126           [1, 256, 14, 14]               0\n",
      "          Conv2d-127          [1, 1024, 14, 14]         262,144\n",
      "     BatchNorm2d-128          [1, 1024, 14, 14]           2,048\n",
      "            ReLU-129          [1, 1024, 14, 14]               0\n",
      "      Bottleneck-130          [1, 1024, 14, 14]               0\n",
      "          Conv2d-131           [1, 256, 14, 14]         262,144\n",
      "     BatchNorm2d-132           [1, 256, 14, 14]             512\n",
      "            ReLU-133           [1, 256, 14, 14]               0\n",
      "          Conv2d-134           [1, 256, 14, 14]         589,824\n",
      "     BatchNorm2d-135           [1, 256, 14, 14]             512\n",
      "            ReLU-136           [1, 256, 14, 14]               0\n",
      "          Conv2d-137          [1, 1024, 14, 14]         262,144\n",
      "     BatchNorm2d-138          [1, 1024, 14, 14]           2,048\n",
      "            ReLU-139          [1, 1024, 14, 14]               0\n",
      "      Bottleneck-140          [1, 1024, 14, 14]               0\n",
      "          Conv2d-141           [1, 512, 14, 14]         524,288\n",
      "     BatchNorm2d-142           [1, 512, 14, 14]           1,024\n",
      "            ReLU-143           [1, 512, 14, 14]               0\n",
      "          Conv2d-144             [1, 512, 7, 7]       2,359,296\n",
      "     BatchNorm2d-145             [1, 512, 7, 7]           1,024\n",
      "            ReLU-146             [1, 512, 7, 7]               0\n",
      "          Conv2d-147            [1, 2048, 7, 7]       1,048,576\n",
      "     BatchNorm2d-148            [1, 2048, 7, 7]           4,096\n",
      "          Conv2d-149            [1, 2048, 7, 7]       2,097,152\n",
      "     BatchNorm2d-150            [1, 2048, 7, 7]           4,096\n",
      "            ReLU-151            [1, 2048, 7, 7]               0\n",
      "      Bottleneck-152            [1, 2048, 7, 7]               0\n",
      "          Conv2d-153             [1, 512, 7, 7]       1,048,576\n",
      "     BatchNorm2d-154             [1, 512, 7, 7]           1,024\n",
      "            ReLU-155             [1, 512, 7, 7]               0\n",
      "          Conv2d-156             [1, 512, 7, 7]       2,359,296\n",
      "     BatchNorm2d-157             [1, 512, 7, 7]           1,024\n",
      "            ReLU-158             [1, 512, 7, 7]               0\n",
      "          Conv2d-159            [1, 2048, 7, 7]       1,048,576\n",
      "     BatchNorm2d-160            [1, 2048, 7, 7]           4,096\n",
      "            ReLU-161            [1, 2048, 7, 7]               0\n",
      "      Bottleneck-162            [1, 2048, 7, 7]               0\n",
      "          Conv2d-163             [1, 512, 7, 7]       1,048,576\n",
      "     BatchNorm2d-164             [1, 512, 7, 7]           1,024\n",
      "            ReLU-165             [1, 512, 7, 7]               0\n",
      "          Conv2d-166             [1, 512, 7, 7]       2,359,296\n",
      "     BatchNorm2d-167             [1, 512, 7, 7]           1,024\n",
      "            ReLU-168             [1, 512, 7, 7]               0\n",
      "          Conv2d-169            [1, 2048, 7, 7]       1,048,576\n",
      "     BatchNorm2d-170            [1, 2048, 7, 7]           4,096\n",
      "            ReLU-171            [1, 2048, 7, 7]               0\n",
      "      Bottleneck-172            [1, 2048, 7, 7]               0\n",
      "AdaptiveAvgPool2d-173            [1, 2048, 1, 1]               0\n",
      "          Linear-174                  [1, 1000]       2,049,000\n",
      "================================================================\n",
      "Total params: 25,557,032\n",
      "Trainable params: 25,557,032\n",
      "Non-trainable params: 0\n",
      "----------------------------------------------------------------\n",
      "Input size (MB): 0.57\n",
      "Forward/backward pass size (MB): 286.56\n",
      "Params size (MB): 97.49\n",
      "Estimated Total Size (MB): 384.62\n",
      "----------------------------------------------------------------\n"
     ]
    }
   ],
   "source": [
    "summary(model.cuda(),input_size=(3,224,224),batch_size=1)"
   ]
  },
  {
   "cell_type": "code",
   "execution_count": 112,
   "metadata": {},
   "outputs": [
    {
     "data": {
      "text/plain": [
       "Linear(in_features=2048, out_features=1000, bias=True)"
      ]
     },
     "execution_count": 112,
     "metadata": {},
     "output_type": "execute_result"
    }
   ],
   "source": [
    "model.fc"
   ]
  },
  {
   "cell_type": "code",
   "execution_count": null,
   "metadata": {},
   "outputs": [],
   "source": [
    "toch.summary(model,)"
   ]
  },
  {
   "cell_type": "code",
   "execution_count": null,
   "metadata": {},
   "outputs": [],
   "source": []
  },
  {
   "cell_type": "code",
   "execution_count": 90,
   "metadata": {},
   "outputs": [],
   "source": [
    "def decom_vgg16():\n",
    "    # the 30th layer of features is relu of conv5_3\n",
    "    model=models.vgg16()\n",
    "\n",
    "    features = list(model.features)[:30]\n",
    "    classifier = model.classifier\n",
    "\n",
    "    classifier = list(classifier)\n",
    "\n",
    "    classifier = nn.Sequential(*classifier)\n",
    "\n",
    "    # for layer in features[:10]:\n",
    "    #     for p in layer.parameters():\n",
    "    #         p.requires_grad = False\n",
    "\n",
    "    return nn.Sequential(*features), classifier"
   ]
  },
  {
   "cell_type": "code",
   "execution_count": 91,
   "metadata": {},
   "outputs": [],
   "source": [
    "a,b=decom_vgg16()"
   ]
  },
  {
   "cell_type": "code",
   "execution_count": 94,
   "metadata": {},
   "outputs": [],
   "source": [
    "tem=a(torch.rand((3,600,1000)).unsqueeze(0))"
   ]
  },
  {
   "cell_type": "code",
   "execution_count": 101,
   "metadata": {},
   "outputs": [
    {
     "data": {
      "text/plain": [
       "Sequential(\n",
       "  (0): Linear(in_features=25088, out_features=4096, bias=True)\n",
       "  (1): ReLU(inplace=True)\n",
       "  (2): Dropout(p=0.5, inplace=False)\n",
       "  (3): Linear(in_features=4096, out_features=4096, bias=True)\n",
       "  (4): ReLU(inplace=True)\n",
       "  (5): Dropout(p=0.5, inplace=False)\n",
       "  (6): Linear(in_features=4096, out_features=1000, bias=True)\n",
       ")"
      ]
     },
     "execution_count": 101,
     "metadata": {},
     "output_type": "execute_result"
    }
   ],
   "source": [
    "b"
   ]
  },
  {
   "cell_type": "code",
   "execution_count": 96,
   "metadata": {},
   "outputs": [
    {
     "data": {
      "text/plain": [
       "Sequential(\n",
       "  (0): Linear(in_features=25088, out_features=4096, bias=True)\n",
       "  (1): ReLU(inplace=True)\n",
       "  (2): Dropout(p=0.5, inplace=False)\n",
       "  (3): Linear(in_features=4096, out_features=4096, bias=True)\n",
       "  (4): ReLU(inplace=True)\n",
       "  (5): Dropout(p=0.5, inplace=False)\n",
       "  (6): Linear(in_features=4096, out_features=1000, bias=True)\n",
       ")"
      ]
     },
     "execution_count": 96,
     "metadata": {},
     "output_type": "execute_result"
    }
   ],
   "source": [
    "b"
   ]
  },
  {
   "cell_type": "code",
   "execution_count": null,
   "metadata": {},
   "outputs": [
    {
     "name": "stdout",
     "output_type": "stream",
     "text": [
      "----------------------------------------------------------------\n",
      "        Layer (type)               Output Shape         Param #\n",
      "================================================================\n",
      "            Conv2d-1         [1, 64, 600, 1000]           1,792\n",
      "              ReLU-2         [1, 64, 600, 1000]               0\n",
      "            Conv2d-3         [1, 64, 600, 1000]          36,928\n",
      "              ReLU-4         [1, 64, 600, 1000]               0\n",
      "         MaxPool2d-5          [1, 64, 300, 500]               0\n",
      "            Conv2d-6         [1, 128, 300, 500]          73,856\n",
      "              ReLU-7         [1, 128, 300, 500]               0\n",
      "            Conv2d-8         [1, 128, 300, 500]         147,584\n",
      "              ReLU-9         [1, 128, 300, 500]               0\n",
      "        MaxPool2d-10         [1, 128, 150, 250]               0\n",
      "           Conv2d-11         [1, 256, 150, 250]         295,168\n",
      "             ReLU-12         [1, 256, 150, 250]               0\n",
      "           Conv2d-13         [1, 256, 150, 250]         590,080\n",
      "             ReLU-14         [1, 256, 150, 250]               0\n",
      "           Conv2d-15         [1, 256, 150, 250]         590,080\n",
      "             ReLU-16         [1, 256, 150, 250]               0\n",
      "        MaxPool2d-17          [1, 256, 75, 125]               0\n",
      "           Conv2d-18          [1, 512, 75, 125]       1,180,160\n",
      "             ReLU-19          [1, 512, 75, 125]               0\n",
      "           Conv2d-20          [1, 512, 75, 125]       2,359,808\n",
      "             ReLU-21          [1, 512, 75, 125]               0\n",
      "           Conv2d-22          [1, 512, 75, 125]       2,359,808\n",
      "             ReLU-23          [1, 512, 75, 125]               0\n",
      "        MaxPool2d-24           [1, 512, 37, 62]               0\n",
      "           Conv2d-25           [1, 512, 37, 62]       2,359,808\n",
      "             ReLU-26           [1, 512, 37, 62]               0\n",
      "           Conv2d-27           [1, 512, 37, 62]       2,359,808\n",
      "             ReLU-28           [1, 512, 37, 62]               0\n",
      "           Conv2d-29           [1, 512, 37, 62]       2,359,808\n",
      "             ReLU-30           [1, 512, 37, 62]               0\n",
      "        MaxPool2d-31           [1, 512, 18, 31]               0\n",
      "AdaptiveAvgPool2d-32             [1, 512, 7, 7]               0\n",
      "           Linear-33                  [1, 4096]     102,764,544\n",
      "             ReLU-34                  [1, 4096]               0\n",
      "          Dropout-35                  [1, 4096]               0\n",
      "           Linear-36                  [1, 4096]      16,781,312\n",
      "             ReLU-37                  [1, 4096]               0\n",
      "          Dropout-38                  [1, 4096]               0\n",
      "           Linear-39                  [1, 1000]       4,097,000\n",
      "================================================================\n",
      "Total params: 138,357,544\n",
      "Trainable params: 138,357,544\n",
      "Non-trainable params: 0\n",
      "----------------------------------------------------------------\n",
      "Input size (MB): 6.87\n",
      "Forward/backward pass size (MB): 2610.46\n",
      "Params size (MB): 527.79\n",
      "Estimated Total Size (MB): 3145.12\n",
      "----------------------------------------------------------------\n"
     ]
    }
   ],
   "source": [
    "summary(model,input_size=(3,600,1000),batch_size=1)"
   ]
  }
 ],
 "metadata": {
  "interpreter": {
   "hash": "623a9f8af0be4123d72a49457fdd65b442f8fe6d5b5109249813d94319742a73"
  },
  "kernelspec": {
   "display_name": "Python 3.7.2 64-bit ('base': conda)",
   "name": "python3"
  },
  "language_info": {
   "codemirror_mode": {
    "name": "ipython",
    "version": 3
   },
   "file_extension": ".py",
   "mimetype": "text/x-python",
   "name": "python",
   "nbconvert_exporter": "python",
   "pygments_lexer": "ipython3",
   "version": "3.7.2"
  },
  "orig_nbformat": 4
 },
 "nbformat": 4,
 "nbformat_minor": 2
}
