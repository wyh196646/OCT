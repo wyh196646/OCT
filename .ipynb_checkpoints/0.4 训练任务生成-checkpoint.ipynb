{
 "cells": [
  {
   "cell_type": "code",
   "execution_count": 1,
   "id": "3dd2987b-8c10-4e6c-8265-2f492855f095",
   "metadata": {},
   "outputs": [],
   "source": [
    "from oct_Utils import *"
   ]
  },
  {
   "cell_type": "code",
   "execution_count": 18,
   "id": "72b775c5-4bc2-4025-903f-b95f519e38d7",
   "metadata": {},
   "outputs": [
    {
     "name": "stdout",
     "output_type": "stream",
     "text": [
      "['image_path', 'source', 'pid', 'dates', 'eye', 'pos', 'num']\n",
      "21649\n"
     ]
    },
    {
     "data": {
      "text/html": [
       "<div>\n",
       "<style scoped>\n",
       "    .dataframe tbody tr th:only-of-type {\n",
       "        vertical-align: middle;\n",
       "    }\n",
       "\n",
       "    .dataframe tbody tr th {\n",
       "        vertical-align: top;\n",
       "    }\n",
       "\n",
       "    .dataframe thead th {\n",
       "        text-align: right;\n",
       "    }\n",
       "</style>\n",
       "<table border=\"1\" class=\"dataframe\">\n",
       "  <thead>\n",
       "    <tr style=\"text-align: right;\">\n",
       "      <th></th>\n",
       "      <th>image_path</th>\n",
       "      <th>source</th>\n",
       "      <th>pid</th>\n",
       "      <th>dates</th>\n",
       "      <th>eye</th>\n",
       "      <th>pos</th>\n",
       "      <th>num</th>\n",
       "    </tr>\n",
       "  </thead>\n",
       "  <tbody>\n",
       "    <tr>\n",
       "      <th>0</th>\n",
       "      <td>20210730-中山眼科-OCT转VF/CASIA数据汇总-new/CRC-009-143...</td>\n",
       "      <td>CASIA数据汇总-new</td>\n",
       "      <td>CRC-009-143</td>\n",
       "      <td>2018-06-26</td>\n",
       "      <td>OS</td>\n",
       "      <td>macula</td>\n",
       "      <td>[[ 0  0  0  0  0  0  0  0  0  0]\\n [ 0  0  0 2...</td>\n",
       "    </tr>\n",
       "    <tr>\n",
       "      <th>...</th>\n",
       "      <td>...</td>\n",
       "      <td>...</td>\n",
       "      <td>...</td>\n",
       "      <td>...</td>\n",
       "      <td>...</td>\n",
       "      <td>...</td>\n",
       "      <td>...</td>\n",
       "    </tr>\n",
       "    <tr>\n",
       "      <th>21648</th>\n",
       "      <td>20210820-sysu-oct/magic/CRC000654/20201013/OS/...</td>\n",
       "      <td>magic</td>\n",
       "      <td>CRC000654</td>\n",
       "      <td>2020-10-13</td>\n",
       "      <td>OS</td>\n",
       "      <td>macula</td>\n",
       "      <td>[[ 0.  0.  0.  0.  0.  0.  0.  0.  0.  0.]\\n [...</td>\n",
       "    </tr>\n",
       "  </tbody>\n",
       "</table>\n",
       "<p>21649 rows × 7 columns</p>\n",
       "</div>"
      ],
      "text/plain": [
       "                                              image_path         source  \\\n",
       "0      20210730-中山眼科-OCT转VF/CASIA数据汇总-new/CRC-009-143...  CASIA数据汇总-new   \n",
       "...                                                  ...            ...   \n",
       "21648  20210820-sysu-oct/magic/CRC000654/20201013/OS/...          magic   \n",
       "\n",
       "               pid       dates eye     pos  \\\n",
       "0      CRC-009-143  2018-06-26  OS  macula   \n",
       "...            ...         ...  ..     ...   \n",
       "21648    CRC000654  2020-10-13  OS  macula   \n",
       "\n",
       "                                                     num  \n",
       "0      [[ 0  0  0  0  0  0  0  0  0  0]\\n [ 0  0  0 2...  \n",
       "...                                                  ...  \n",
       "21648  [[ 0.  0.  0.  0.  0.  0.  0.  0.  0.  0.]\\n [...  \n",
       "\n",
       "[21649 rows x 7 columns]"
      ]
     },
     "metadata": {},
     "output_type": "display_data"
    }
   ],
   "source": [
    "df = pd.read_csv('/home/octusr2/projects/data_fast/csv/0829.csv')\n",
    "df = df[['image_path', 'source', 'pid', 'dates', 'eye', 'pos', 'num', 'pd_prob']]\n",
    "print_df(df)"
   ]
  },
  {
   "cell_type": "code",
   "execution_count": 19,
   "id": "47e3bd0f-1243-416f-8ad6-c9a98aa3e10d",
   "metadata": {},
   "outputs": [
    {
     "name": "stdout",
     "output_type": "stream",
     "text": [
      "{'OD': 10912, 'OS': 10737}\n",
      "{'disc': 11015, 'macula': 10634}\n"
     ]
    }
   ],
   "source": [
    "vc(df['eye'])\n",
    "vc(df['pos'])"
   ]
  },
  {
   "cell_type": "code",
   "execution_count": 20,
   "id": "bafe4a73-f3fa-44b9-a29f-e0369e6a2814",
   "metadata": {},
   "outputs": [],
   "source": [
    "id_base = 'pid'\n",
    "date = '0831'\n",
    "label_type = 'num'\n",
    "\n",
    "for model, size, pos in product(['r50'], ['380'], ['disc', 'macula']):\n",
    "    exp_name = f'{date}/{pos}_{label_type}_{model}_{size}'\n",
    "    df_tmp = df.copy()\n",
    "    df_tmp = df_tmp[df_tmp['pos'] == pos]\n",
    "    df_tmp['dataset'] = df_tmp[id_base].map(to_dataset_mapping(df_tmp[id_base].tolist(), 5))\n",
    "    ensure_path(f'output/{exp_name}/exp-{id_base}/tasks')\n",
    "    df_tmp.to_csv(f'output/{exp_name}/exp-{id_base}/tasks/data.csv', index=False)"
   ]
  },
  {
   "cell_type": "code",
   "execution_count": null,
   "id": "312a87ce-b0b1-4afd-bcad-43054ffda79f",
   "metadata": {},
   "outputs": [],
   "source": []
  }
 ],
 "metadata": {
  "kernelspec": {
   "display_name": "Python [conda env:oct] *",
   "language": "python",
   "name": "conda-env-oct-py"
  },
  "language_info": {
   "codemirror_mode": {
    "name": "ipython",
    "version": 3
   },
   "file_extension": ".py",
   "mimetype": "text/x-python",
   "name": "python",
   "nbconvert_exporter": "python",
   "pygments_lexer": "ipython3",
   "version": "3.8.11"
  }
 },
 "nbformat": 4,
 "nbformat_minor": 5
}
