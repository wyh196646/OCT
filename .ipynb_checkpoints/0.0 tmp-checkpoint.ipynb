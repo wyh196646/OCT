{
 "cells": [
  {
   "cell_type": "code",
   "execution_count": 1,
   "id": "4ea41b98-13c9-46f0-b9cc-6cfd2e549686",
   "metadata": {},
   "outputs": [],
   "source": [
    "from oct_Utils import *\n",
    "from tqdm.notebook import tqdm"
   ]
  },
  {
   "cell_type": "code",
   "execution_count": 20,
   "id": "05df87e9-03fe-4f50-bcbc-ca542f0d1ba9",
   "metadata": {},
   "outputs": [
    {
     "name": "stdout",
     "output_type": "stream",
     "text": [
      "6588\n",
      "['/data/rawdata/OCT/data/20210730-中山眼科-OCT转VF/CASIA数据汇总-new/CRC-009-097/OD/OCT-后/3D Disc/83879.fds', '/data/rawdata/OCT/data/20210730-中山眼科-OCT转VF/CASIA数据汇总-new/CRC-009-097/OD/OCT-后/3D Macula/83877.fds', '/data/rawdata/OCT/data/20210730-中山眼科-OCT转VF/CASIA数据汇总-new/CRC-009-097/OS/OCT-后/3D Disc/83884.fds', '/data/rawdata/OCT/data/20210730-中山眼科-OCT转VF/CASIA数据汇总-new/CRC-009-097/OS/OCT-后/3D Macula/83883.fds', '/data/rawdata/OCT/data/20210730-中山眼科-OCT转VF/CASIA数据汇总-new/CRC-009-143/OS/OCT-后/3D Disc/69627.fds', '/data/rawdata/OCT/data/20210730-中山眼科-OCT转VF/CASIA数据汇总-new/CRC-009-143/OS/OCT-后/3D Macula/69623.fds', '/data/rawdata/OCT/data/20210730-中山眼科-OCT转VF/CASIA数据汇总-new/CRC-009-173/OD/OCT-后/3D Disc/98685.fds', '/data/rawdata/OCT/data/20210730-中山眼科-OCT转VF/CASIA数据汇总-new/CRC-009-173/OD/OCT-后/3D Macula/98682.fds', '/data/rawdata/OCT/data/20210730-中山眼科-OCT转VF/CASIA数据汇总-new/CRC-009-173/OS/OCT-后/3D Disc/98695.fds', '/data/rawdata/OCT/data/20210730-中山眼科-OCT转VF/CASIA数据汇总-new/CRC-009-173/OS/OCT-后/3D Macula/98692.fds']\n"
     ]
    }
   ],
   "source": [
    "tasks = []\n",
    "not_valid1 = {\n",
    "    '3d wide',\n",
    "#     'oct',\n",
    "    'oct disc',\n",
    "    'octa disc',\n",
    "    'octa macula',\n",
    "    'octa macular',\n",
    "    'octa disc-fda',\n",
    "    'octa macula-fda',\n",
    "}\n",
    "not_valid2 = {\n",
    "    'oct',\n",
    "}\n",
    "for dirpath, dirnames, filenames in os.walk('/data/rawdata/OCT/data/20210730-中山眼科-OCT转VF'):\n",
    "    for d in dirnames[:]:\n",
    "        if '-clean-' in d or d.lower() in not_valid1:\n",
    "            dirnames.remove(d)\n",
    "    \n",
    "    for filename in filenames:\n",
    "        if filename.endswith('.fda') or filename.endswith('.fds'):\n",
    "            tasks.append(f'{dirpath}/{filename}')\n",
    "    print(len(tasks), end=\"\\r\", flush=True)\n",
    "new_tasks = []\n",
    "for task in tasks:\n",
    "    parent = task.split('/')[-2]\n",
    "    if parent.lower() in not_valid2:\n",
    "        continue\n",
    "    new_tasks.append(task)\n",
    "tasks = new_tasks\n",
    "print(len(tasks))\n",
    "print(tasks[:10])"
   ]
  },
  {
   "cell_type": "code",
   "execution_count": 21,
   "id": "93236e61-0692-4c57-9a7a-81f15fe93474",
   "metadata": {},
   "outputs": [],
   "source": [
    "json_dump(tasks, 'data/tmp.json')"
   ]
  },
  {
   "cell_type": "code",
   "execution_count": 16,
   "id": "98d51eb3-ee7d-40ac-8581-8c2d5a41a9e9",
   "metadata": {},
   "outputs": [
    {
     "name": "stdout",
     "output_type": "stream",
     "text": [
      "True\n"
     ]
    }
   ],
   "source": [
    "print('OCTA Macula'.lower() in not_valid1)"
   ]
  },
  {
   "cell_type": "code",
   "execution_count": 30,
   "id": "2112d871-2287-4d51-878f-55d7881de031",
   "metadata": {},
   "outputs": [
    {
     "name": "stdout",
     "output_type": "stream",
     "text": [
      "(256, 992, 512)\n"
     ]
    }
   ],
   "source": [
    "def read_compacted_imgs(path):\n",
    "    obj = np.load(path)\n",
    "    imgs = obj['imgs']\n",
    "    lens = obj['lens']\n",
    "    result = []\n",
    "    for img, l in zip(imgs, lens):\n",
    "        img = img[:l]\n",
    "        img = np.frombuffer(img, dtype=np.uint8)\n",
    "        result.append(cv2.imdecode(img, cv2.IMREAD_GRAYSCALE))\n",
    "    result = np.stack(result, axis=0)\n",
    "    return result\n",
    "tmp = read_compacted_imgs('/home/octusr2/projects/data_fast/proceeded/volume_npz/CASIA数据汇总-new/CRC-009-097/OD/OCT-后/3D Disc/83879.npz')\n",
    "print(tmp.shape)"
   ]
  },
  {
   "cell_type": "code",
   "execution_count": 5,
   "id": "7c8dd91a-ea01-45f6-960f-f829cdd286cd",
   "metadata": {},
   "outputs": [
    {
     "name": "stdout",
     "output_type": "stream",
     "text": [
      "['oct_date_file', 'oct_x', 'oct_y', 'oct_z']\n",
      "31494\n"
     ]
    },
    {
     "data": {
      "text/html": [
       "<div>\n",
       "<style scoped>\n",
       "    .dataframe tbody tr th:only-of-type {\n",
       "        vertical-align: middle;\n",
       "    }\n",
       "\n",
       "    .dataframe tbody tr th {\n",
       "        vertical-align: top;\n",
       "    }\n",
       "\n",
       "    .dataframe thead th {\n",
       "        text-align: right;\n",
       "    }\n",
       "</style>\n",
       "<table border=\"1\" class=\"dataframe\">\n",
       "  <thead>\n",
       "    <tr style=\"text-align: right;\">\n",
       "      <th></th>\n",
       "      <th>oct_date_file</th>\n",
       "      <th>oct_x</th>\n",
       "      <th>oct_y</th>\n",
       "      <th>oct_z</th>\n",
       "    </tr>\n",
       "    <tr>\n",
       "      <th>oct_path</th>\n",
       "      <th></th>\n",
       "      <th></th>\n",
       "      <th></th>\n",
       "      <th></th>\n",
       "    </tr>\n",
       "  </thead>\n",
       "  <tbody>\n",
       "    <tr>\n",
       "      <th>20210812-sysu-oct/ANGIO1/CRC-009-106/20190730/OD/OCT/3D macula/107801</th>\n",
       "      <td>2019-07-30</td>\n",
       "      <td>6.0</td>\n",
       "      <td>6.0</td>\n",
       "      <td>2.60000</td>\n",
       "    </tr>\n",
       "    <tr>\n",
       "      <th>...</th>\n",
       "      <td>...</td>\n",
       "      <td>...</td>\n",
       "      <td>...</td>\n",
       "      <td>...</td>\n",
       "    </tr>\n",
       "    <tr>\n",
       "      <th>20210820-sysu-oct/HM-GON5/CRC000499/20210112/OD/OCT/3D macula/94968</th>\n",
       "      <td>2021-01-12</td>\n",
       "      <td>7.0</td>\n",
       "      <td>7.0</td>\n",
       "      <td>2.56361</td>\n",
       "    </tr>\n",
       "  </tbody>\n",
       "</table>\n",
       "<p>31494 rows × 4 columns</p>\n",
       "</div>"
      ],
      "text/plain": [
       "                                                   oct_date_file  oct_x  \\\n",
       "oct_path                                                                  \n",
       "20210812-sysu-oct/ANGIO1/CRC-009-106/20190730/O...    2019-07-30    6.0   \n",
       "...                                                          ...    ...   \n",
       "20210820-sysu-oct/HM-GON5/CRC000499/20210112/OD...    2021-01-12    7.0   \n",
       "\n",
       "                                                    oct_y    oct_z  \n",
       "oct_path                                                            \n",
       "20210812-sysu-oct/ANGIO1/CRC-009-106/20190730/O...    6.0  2.60000  \n",
       "...                                                   ...      ...  \n",
       "20210820-sysu-oct/HM-GON5/CRC000499/20210112/OD...    7.0  2.56361  \n",
       "\n",
       "[31494 rows x 4 columns]"
      ]
     },
     "metadata": {},
     "output_type": "display_data"
    }
   ],
   "source": [
    "df = pd.read_csv('/home/octusr2/projects/data_fast/proceeded/volume_info/volume_info.csv')\n",
    "df['oct_path'] = df['oct_path'].map(lambda x: str(Path(x).with_suffix('')))\n",
    "df = df.set_index('oct_path')\n",
    "\n",
    "print_df(df)"
   ]
  },
  {
   "cell_type": "code",
   "execution_count": 2,
   "id": "e1db2211-ec45-4f0c-b3bf-f7321be96c1b",
   "metadata": {},
   "outputs": [
    {
     "ename": "TypeError",
     "evalue": "extract_cp() takes 1 positional argument but 2 were given",
     "output_type": "error",
     "traceback": [
      "\u001b[0;31m---------------------------------------------------------------------------\u001b[0m",
      "\u001b[0;31mTypeError\u001b[0m                                 Traceback (most recent call last)",
      "\u001b[0;32m/tmp/ipykernel_25963/2621893075.py\u001b[0m in \u001b[0;36m<module>\u001b[0;34m\u001b[0m\n\u001b[1;32m      6\u001b[0m \u001b[0;34m\u001b[0m\u001b[0m\n\u001b[1;32m      7\u001b[0m \u001b[0mfilepath\u001b[0m \u001b[0;34m=\u001b[0m \u001b[0minput_root\u001b[0m \u001b[0;34m/\u001b[0m \u001b[0;34m'20210812-sysu-oct/ANGIO3/CRC-009-035/20210111/OS/OCT/3D disc/115833.tar.gz'\u001b[0m\u001b[0;34m\u001b[0m\u001b[0;34m\u001b[0m\u001b[0m\n\u001b[0;32m----> 8\u001b[0;31m \u001b[0mextract_cp\u001b[0m\u001b[0;34m(\u001b[0m\u001b[0;34m[\u001b[0m\u001b[0mstr\u001b[0m\u001b[0;34m(\u001b[0m\u001b[0mfilepath\u001b[0m\u001b[0;34m)\u001b[0m\u001b[0;34m]\u001b[0m\u001b[0;34m,\u001b[0m \u001b[0minput_root\u001b[0m\u001b[0;34m)\u001b[0m\u001b[0;34m\u001b[0m\u001b[0;34m\u001b[0m\u001b[0m\n\u001b[0m",
      "\u001b[0;31mTypeError\u001b[0m: extract_cp() takes 1 positional argument but 2 were given"
     ]
    }
   ],
   "source": [
    "input_root = Path('/home/octusr2/projects/data_fast/proceeded/volume_targz')\n",
    "output_root = Path('/home/octusr2/projects/data_fast/proceeded/cp_projection/380')\n",
    "info = pd.read_csv('/home/octusr2/projects/data_fast/proceeded/volume_info/volume_info.csv')\n",
    "info['oct_path'] = info['oct_path'].map(lambda x: str(Path(x).with_suffix('')))\n",
    "info = info.set_index('oct_path')\n",
    "\n",
    "filepath = input_root / '20210812-sysu-oct/ANGIO3/CRC-009-035/20210111/OS/OCT/3D disc/115833.tar.gz'\n",
    "extract_cp([str(filepath)], input_root, output_root, info)"
   ]
  },
  {
   "cell_type": "code",
   "execution_count": null,
   "id": "ba54fafb-8fdf-45b2-a1a4-dd27fce725c9",
   "metadata": {},
   "outputs": [],
   "source": []
  }
 ],
 "metadata": {
  "kernelspec": {
   "display_name": "Python [conda env:oct] *",
   "language": "python",
   "name": "conda-env-oct-py"
  },
  "language_info": {
   "codemirror_mode": {
    "name": "ipython",
    "version": 3
   },
   "file_extension": ".py",
   "mimetype": "text/x-python",
   "name": "python",
   "nbconvert_exporter": "python",
   "pygments_lexer": "ipython3",
   "version": "3.8.11"
  }
 },
 "nbformat": 4,
 "nbformat_minor": 5
}
