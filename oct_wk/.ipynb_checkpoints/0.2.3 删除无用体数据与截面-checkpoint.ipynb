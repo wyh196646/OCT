{
 "cells": [
  {
   "cell_type": "code",
   "execution_count": 1,
   "id": "2db54f40-ad85-4aae-99a4-36b20a427395",
   "metadata": {},
   "outputs": [],
   "source": [
    "from oct_Utils import *"
   ]
  },
  {
   "cell_type": "code",
   "execution_count": 4,
   "id": "c2b87b32-6147-4316-a8a1-db78dde2472f",
   "metadata": {},
   "outputs": [],
   "source": [
    "new_fdas = get_all_fdas(cache=True)\n",
    "new_volumes = get_all_volumes(cache=True)\n",
    "new_cps = get_all_cps(cache=True)"
   ]
  },
  {
   "cell_type": "code",
   "execution_count": 10,
   "id": "2487d31a-110b-4124-b012-3d977076276b",
   "metadata": {},
   "outputs": [
    {
     "name": "stdout",
     "output_type": "stream",
     "text": [
      "['20210730-中山眼科-OCT转VF/CASIA数据汇总-new/CRC-009-097/OD/OCT-后/3D Disc/83879', '20210730-中山眼科-OCT转VF/CASIA数据汇总-new/CRC-009-097/OD/OCT-后/3D Macula/83877', '20210730-中山眼科-OCT转VF/CASIA数据汇总-new/CRC-009-097/OS/OCT-后/3D Disc/83884', '20210730-中山眼科-OCT转VF/CASIA数据汇总-new/CRC-009-097/OS/OCT-后/3D Macula/83883', '20210730-中山眼科-OCT转VF/CASIA数据汇总-new/CRC-009-143/OS/OCT-后/3D Disc/69627']\n",
      "['20210730-中山眼科-OCT转VF/CASIA数据汇总-new/CS-484/20190916/OS/OCT-后/3D Disc/15740', '20210730-中山眼科-OCT转VF/CASIA数据汇总-new/CS-484/20190916/OS/OCT-后/3D Macula/15739', '20210730-中山眼科-OCT转VF/CASIA数据汇总-new/CS-484/20190916/OD/OCT-后/3D Disc/15738', '20210730-中山眼科-OCT转VF/CASIA数据汇总-new/CS-484/20190916/OD/OCT-后/3D Macula/15737', '20210730-中山眼科-OCT转VF/CASIA数据汇总-new/CS-269/20190701/OS/OCT-后/3D Disc/4697']\n",
      "0\n",
      "[]\n",
      "1364\n",
      "[PosixPath('/home/octusr2/projects/data_fast/proceeded/cp_projection/380/20210820-sysu-oct/HM-GON-已整理/CRC-023-0029/20210126/OD/OCT/3D macula/97204.jpg'), PosixPath('/home/octusr2/projects/data_fast/proceeded/cp_projection/380/20210820-sysu-oct/HM-GON-已整理/CRC-023-0071/20210526/OS/OCT/3D disc/112182.jpg'), PosixPath('/home/octusr2/projects/data_fast/proceeded/cp_projection/380/20210820-sysu-oct/HM-GON-已整理/CRC000604/20210720/OS/OCT/3D macula/56680.jpg'), PosixPath('/home/octusr2/projects/data_fast/proceeded/cp_projection/380/20210820-sysu-oct/HM-GON-已整理/CRC000598/20210317/OS/OCT/3D macula/103467.jpg'), PosixPath('/home/octusr2/projects/data_fast/proceeded/cp_projection/380/20210820-sysu-oct/HM-GON-已整理/CRC000392/20210629/OD/OCT/3D disc/114623.jpg')]\n"
     ]
    }
   ],
   "source": [
    "fdas_root = Path('/data/rawdata/OCT/data/')\n",
    "volume_root = Path('/home/octusr2/projects/data_fast/proceeded/volume_targz/')\n",
    "cp_root = Path('/home/octusr2/projects/data_fast/proceeded/cp_projection/380')\n",
    "\n",
    "fdas = [str(Path(x).relative_to(fdas_root).with_suffix('')) for x in new_fdas]\n",
    "volumes = [str(Path(x).relative_to(volume_root).with_suffix('').with_suffix('')) for x in new_volumes]\n",
    "cps = [str(Path(x).relative_to(cp_root).with_suffix('')) for x in new_cps if x.startswith(str(cp_root))]\n",
    "\n",
    "print(fdas[:5])\n",
    "print(cps[:5])\n",
    "\n",
    "volume_to_delete = list(set(volumes).difference(set(fdas)))\n",
    "volume_to_delete = [(volume_root / x).with_suffix('.tar.gz') for x in volume_to_delete]\n",
    "print(len(volume_to_delete))\n",
    "print(volume_to_delete[:5])\n",
    "\n",
    "\n",
    "cp_to_delete = list(set(cps).difference(set(fdas)))\n",
    "cp_to_delete = [(cp_root / x).with_suffix('.jpg') for x in cp_to_delete]\n",
    "print(len(cp_to_delete))\n",
    "print(cp_to_delete[:5])"
   ]
  },
  {
   "cell_type": "code",
   "execution_count": 5,
   "id": "cbc4d2d5-348b-4313-af16-6bb3f023afd9",
   "metadata": {},
   "outputs": [],
   "source": [
    "for file in volume_to_delete:\n",
    "    file.unlink()\n",
    "def remove_empty_folders(path_abs):\n",
    "    for root, dirs, files in os.walk(path_abs):\n",
    "        if len(files) == 0 and len(dirs) == 0:\n",
    "            os.rmdir(root)\n",
    "\n",
    "remove_empty_folders('/home/octusr2/projects/data_fast/proceeded/volume_targz/')"
   ]
  },
  {
   "cell_type": "code",
   "execution_count": null,
   "id": "1a5dbbcc-6475-4cfd-b54b-22f65a302576",
   "metadata": {},
   "outputs": [],
   "source": [
    "for file in cp_to_delete:\n",
    "    file.unlink()\n",
    "def remove_empty_folders(path_abs):\n",
    "    for root, dirs, files in os.walk(path_abs):\n",
    "        if len(files) == 0 and len(dirs) == 0:\n",
    "            os.rmdir(root)\n",
    "\n",
    "remove_empty_folders('/home/octusr2/projects/data_fast/proceeded/volume_targz/')"
   ]
  }
 ],
 "metadata": {
  "kernelspec": {
   "display_name": "Python [conda env:oct] *",
   "language": "python",
   "name": "conda-env-oct-py"
  },
  "language_info": {
   "codemirror_mode": {
    "name": "ipython",
    "version": 3
   },
   "file_extension": ".py",
   "mimetype": "text/x-python",
   "name": "python",
   "nbconvert_exporter": "python",
   "pygments_lexer": "ipython3",
   "version": "3.8.11"
  }
 },
 "nbformat": 4,
 "nbformat_minor": 5
}
